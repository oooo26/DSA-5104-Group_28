{
 "cells": [
  {
   "cell_type": "code",
   "execution_count": 1,
   "id": "bd3ec3de",
   "metadata": {},
   "outputs": [],
   "source": [
    "import json\n",
    "import pandas as pd\n",
    "import numpy as np"
   ]
  },
  {
   "cell_type": "markdown",
   "id": "35c5d4c5",
   "metadata": {},
   "source": [
    "# Data loading"
   ]
  },
  {
   "cell_type": "code",
   "execution_count": 2,
   "id": "e41bcdea",
   "metadata": {},
   "outputs": [],
   "source": [
    "file_path = \"review_data.json\"\n",
    "review_data = []\n",
    "\n",
    "with open(file_path, 'r', encoding=\"utf-8\") as file:\n",
    "    for line in file:\n",
    "        review_data.append(json.loads(line.strip()))\n",
    "\n",
    "review_df = pd.DataFrame(review_data)"
   ]
  },
  {
   "cell_type": "code",
   "execution_count": 3,
   "id": "194e0806",
   "metadata": {},
   "outputs": [
    {
     "data": {
      "text/plain": [
       "'\\nreview_df.info()\\nprint(review_df.iloc[0])\\n'"
      ]
     },
     "execution_count": 3,
     "metadata": {},
     "output_type": "execute_result"
    }
   ],
   "source": [
    "review_df.info()\n",
    "print(review_df.iloc[0])"
   ]
  },
  {
   "cell_type": "code",
   "execution_count": 4,
   "id": "c920575c",
   "metadata": {},
   "outputs": [],
   "source": [
    "file_path = \"meta_data.json\"\n",
    "meta_data = []\n",
    "\n",
    "with open(file_path, 'r', encoding=\"utf-8\") as file:\n",
    "    for line in file:\n",
    "        meta_data.append(json.loads(line.strip()))\n",
    "\n",
    "meta_df = pd.DataFrame(meta_data)"
   ]
  },
  {
   "cell_type": "code",
   "execution_count": 5,
   "id": "0dc2be8f",
   "metadata": {},
   "outputs": [
    {
     "name": "stdout",
     "output_type": "stream",
     "text": [
      "<class 'pandas.core.frame.DataFrame'>\n",
      "RangeIndex: 1210967 entries, 0 to 1210966\n",
      "Data columns (total 18 columns):\n",
      " #   Column           Non-Null Count    Dtype \n",
      "---  ------           --------------    ----- \n",
      " 0   asin             1210967 non-null  object\n",
      " 1   title            1210967 non-null  object\n",
      " 2   feature          1210967 non-null  object\n",
      " 3   description      1210967 non-null  object\n",
      " 4   price            1210967 non-null  object\n",
      " 5   imageURL         1210967 non-null  object\n",
      " 6   imageURLHighRes  1210967 non-null  object\n",
      " 7   also_buy         1210967 non-null  object\n",
      " 8   also_view        1210967 non-null  object\n",
      " 9   rank             1210967 non-null  object\n",
      " 10  brand            1210967 non-null  object\n",
      " 11  category         1210967 non-null  object\n",
      " 12  main_cat         1210967 non-null  object\n",
      " 13  tech1            1210967 non-null  object\n",
      " 14  tech2            1210967 non-null  object\n",
      " 15  similar_item     1210967 non-null  object\n",
      " 16  date             1210967 non-null  object\n",
      " 17  fit              1210967 non-null  object\n",
      "dtypes: object(18)\n",
      "memory usage: 166.3+ MB\n",
      "asin                                                      0439542804\n",
      "title                                             LEGO Island 2 - PC\n",
      "feature            [The action adventure continues sequel to the ...\n",
      "description        [There is so much to do on LEGO Island: buildi...\n",
      "price                                                        $275.01\n",
      "imageURL           [https://images-na.ssl-images-amazon.com/image...\n",
      "imageURLHighRes    [https://images-na.ssl-images-amazon.com/image...\n",
      "also_buy                                                          []\n",
      "also_view          [B00005V8TB, B008EEYX1Q, B00008KTQ6, B00005AKU...\n",
      "rank               [>#930,608 in Toys &amp; Games (See Top 100 in...\n",
      "brand                                                           LEGO\n",
      "category                                    [Video Games, PC, Games]\n",
      "main_cat                                            Toys &amp; Games\n",
      "tech1                                                               \n",
      "tech2                                                               \n",
      "similar_item                                                        \n",
      "date                                                                \n",
      "fit                                                                 \n",
      "Name: 15, dtype: object\n"
     ]
    }
   ],
   "source": [
    "meta_df.info()\n",
    "print(meta_df.iloc[15])"
   ]
  },
  {
   "cell_type": "code",
   "execution_count": 2,
   "id": "ec528f0d",
   "metadata": {},
   "outputs": [],
   "source": [
    "file_path = \"transaction_data.json\"\n",
    "transaction_data = []\n",
    "\n",
    "with open(file_path, 'r', encoding=\"utf-8\") as file:\n",
    "    for line in file:\n",
    "        transaction_data.append(json.loads(line.strip()))\n",
    "\n",
    "transaction_df = pd.DataFrame(transaction_data)"
   ]
  },
  {
   "cell_type": "code",
   "execution_count": 7,
   "id": "9c16b97e",
   "metadata": {},
   "outputs": [
    {
     "data": {
      "text/plain": [
       "'\\ntransaction_df.info()\\nprint(transaction_df.iloc[0])\\n'"
      ]
     },
     "execution_count": 7,
     "metadata": {},
     "output_type": "execute_result"
    }
   ],
   "source": [
    "transaction_df.info()\n",
    "print(transaction_df.iloc[0])"
   ]
  },
  {
   "cell_type": "code",
   "execution_count": 3,
   "id": "be5e34c7",
   "metadata": {},
   "outputs": [],
   "source": [
    "file_path = \"user_data.json\"\n",
    "user_data = []\n",
    "\n",
    "with open(file_path, 'r', encoding=\"utf-8\") as file:\n",
    "    for line in file:\n",
    "        user_data.append(json.loads(line.strip()))\n",
    "\n",
    "user_df = pd.DataFrame(user_data)"
   ]
  },
  {
   "cell_type": "code",
   "execution_count": 9,
   "id": "99b5892a",
   "metadata": {},
   "outputs": [
    {
     "data": {
      "text/plain": [
       "'\\nuser_df.info()\\nprint(user_df.iloc[0])\\n'"
      ]
     },
     "execution_count": 9,
     "metadata": {},
     "output_type": "execute_result"
    }
   ],
   "source": [
    "user_df.info()\n",
    "print(user_df.iloc[0])"
   ]
  },
  {
   "cell_type": "markdown",
   "id": "a9209deb",
   "metadata": {},
   "source": [
    "# Analysis & Normalization "
   ]
  },
  {
   "cell_type": "markdown",
   "id": "88a1b88a",
   "metadata": {},
   "source": [
    "# Normalization for meta_df"
   ]
  },
  {
   "cell_type": "code",
   "execution_count": 10,
   "id": "c78b216c",
   "metadata": {},
   "outputs": [
    {
     "name": "stdout",
     "output_type": "stream",
     "text": [
      "<class 'pandas.core.frame.DataFrame'>\n",
      "RangeIndex: 1210967 entries, 0 to 1210966\n",
      "Data columns (total 18 columns):\n",
      " #   Column           Non-Null Count    Dtype \n",
      "---  ------           --------------    ----- \n",
      " 0   asin             1210967 non-null  object\n",
      " 1   title            1210967 non-null  object\n",
      " 2   feature          1210967 non-null  object\n",
      " 3   description      1210967 non-null  object\n",
      " 4   price            1210967 non-null  object\n",
      " 5   imageURL         1210967 non-null  object\n",
      " 6   imageURLHighRes  1210967 non-null  object\n",
      " 7   also_buy         1210967 non-null  object\n",
      " 8   also_view        1210967 non-null  object\n",
      " 9   rank             1210967 non-null  object\n",
      " 10  brand            1210967 non-null  object\n",
      " 11  category         1210967 non-null  object\n",
      " 12  main_cat         1210967 non-null  object\n",
      " 13  tech1            1210967 non-null  object\n",
      " 14  tech2            1210967 non-null  object\n",
      " 15  similar_item     1210967 non-null  object\n",
      " 16  date             1210967 non-null  object\n",
      " 17  fit              1210967 non-null  object\n",
      "dtypes: object(18)\n",
      "memory usage: 166.3+ MB\n"
     ]
    }
   ],
   "source": [
    "meta_df.info()"
   ]
  },
  {
   "cell_type": "code",
   "execution_count": 11,
   "id": "566179cb",
   "metadata": {
    "scrolled": true
   },
   "outputs": [
    {
     "data": {
      "text/html": [
       "<div>\n",
       "<style scoped>\n",
       "    .dataframe tbody tr th:only-of-type {\n",
       "        vertical-align: middle;\n",
       "    }\n",
       "\n",
       "    .dataframe tbody tr th {\n",
       "        vertical-align: top;\n",
       "    }\n",
       "\n",
       "    .dataframe thead th {\n",
       "        text-align: right;\n",
       "    }\n",
       "</style>\n",
       "<table border=\"1\" class=\"dataframe\">\n",
       "  <thead>\n",
       "    <tr style=\"text-align: right;\">\n",
       "      <th></th>\n",
       "      <th>asin</th>\n",
       "      <th>title</th>\n",
       "      <th>feature</th>\n",
       "      <th>description</th>\n",
       "      <th>price</th>\n",
       "      <th>imageURL</th>\n",
       "      <th>imageURLHighRes</th>\n",
       "      <th>also_buy</th>\n",
       "      <th>also_view</th>\n",
       "      <th>rank</th>\n",
       "      <th>brand</th>\n",
       "      <th>category</th>\n",
       "      <th>main_cat</th>\n",
       "      <th>tech1</th>\n",
       "      <th>tech2</th>\n",
       "      <th>similar_item</th>\n",
       "      <th>date</th>\n",
       "      <th>fit</th>\n",
       "    </tr>\n",
       "  </thead>\n",
       "  <tbody>\n",
       "    <tr>\n",
       "      <th>121</th>\n",
       "      <td>7900085653</td>\n",
       "      <td>The Elder Scrolls III: Morrowind</td>\n",
       "      <td>[]</td>\n",
       "      <td>[Fullfill your destiny! Snatched from prison b...</td>\n",
       "      <td>$56.75</td>\n",
       "      <td>[]</td>\n",
       "      <td>[]</td>\n",
       "      <td>[B005FDUSTA]</td>\n",
       "      <td>[B00005OWBL, B00065W7CS, B005FDUSTA, B00008XKZ...</td>\n",
       "      <td>[&gt;#54,769 in Video Games (See Top 100 in Video...</td>\n",
       "      <td>by\\n    \\n    JinBan Electronic Press Co., Ltd</td>\n",
       "      <td>[Video Games, Retro Gaming &amp; Microconsoles, Xb...</td>\n",
       "      <td>Video Games</td>\n",
       "      <td></td>\n",
       "      <td></td>\n",
       "      <td></td>\n",
       "      <td></td>\n",
       "      <td></td>\n",
       "    </tr>\n",
       "    <tr>\n",
       "      <th>6947</th>\n",
       "      <td>B00005OWBL</td>\n",
       "      <td>The Elder Scrolls III: Morrowind</td>\n",
       "      <td>[Choose to be a mighty hero on a great quest, ...</td>\n",
       "      <td>[Enter the world of Morrowind, a rich province...</td>\n",
       "      <td>$126.43</td>\n",
       "      <td>[https://images-na.ssl-images-amazon.com/image...</td>\n",
       "      <td>[https://images-na.ssl-images-amazon.com/image...</td>\n",
       "      <td>[B000067DPM, B005FDUSTA, B0006ZJPSC, B000BI3QK...</td>\n",
       "      <td>[B00008XKZM, B00065W7CS, B005FDUSTA, B01N6WXIY...</td>\n",
       "      <td>[&gt;#4,973 in Video Games (See Top 100 in Video ...</td>\n",
       "      <td>by\\n    \\n    Bethesda</td>\n",
       "      <td>[Video Games, Retro Gaming &amp; Microconsoles, Xb...</td>\n",
       "      <td>Video Games</td>\n",
       "      <td></td>\n",
       "      <td></td>\n",
       "      <td></td>\n",
       "      <td></td>\n",
       "      <td></td>\n",
       "    </tr>\n",
       "    <tr>\n",
       "      <th>13372</th>\n",
       "      <td>B00065W7CS</td>\n",
       "      <td>The Elder Scrolls III: Morrowind</td>\n",
       "      <td>[1 Player, RPG, Explore another world and go a...</td>\n",
       "      <td>[Winner of more than 50 Awards. Including RPG ...</td>\n",
       "      <td>$205.78</td>\n",
       "      <td>[https://images-na.ssl-images-amazon.com/image...</td>\n",
       "      <td>[https://images-na.ssl-images-amazon.com/image...</td>\n",
       "      <td>[B005FDUSTA, B000067DPM, B000TG72PG, B00CJ7IUG...</td>\n",
       "      <td>[B00008XKZM, B00005OWBL, B005FDUSTA, B000TG72P...</td>\n",
       "      <td>[&gt;#11,804 in Video Games (See Top 100 in Video...</td>\n",
       "      <td>by\\n    \\n    Bethesda</td>\n",
       "      <td>[Video Games, Retro Gaming &amp; Microconsoles, Xb...</td>\n",
       "      <td>Video Games</td>\n",
       "      <td></td>\n",
       "      <td></td>\n",
       "      <td></td>\n",
       "      <td></td>\n",
       "      <td></td>\n",
       "    </tr>\n",
       "    <tr>\n",
       "      <th>20117</th>\n",
       "      <td>B000J362E6</td>\n",
       "      <td>The Elder Scrolls III: Morrowind</td>\n",
       "      <td>[]</td>\n",
       "      <td>[Platform:&amp;nbsp;&amp;nbsp;WINDOWS 98/ME/2000/XP&amp;nb...</td>\n",
       "      <td>$28.60</td>\n",
       "      <td>[]</td>\n",
       "      <td>[]</td>\n",
       "      <td>[B000070MQM]</td>\n",
       "      <td>[B0000CNUUP, B00005RD71, B000J39B1C, B00008XKZ...</td>\n",
       "      <td>[]</td>\n",
       "      <td>Bethesda Softworks</td>\n",
       "      <td>[Video Games, PC, Games]</td>\n",
       "      <td>Software</td>\n",
       "      <td></td>\n",
       "      <td></td>\n",
       "      <td></td>\n",
       "      <td>&lt;/div&gt;</td>\n",
       "      <td></td>\n",
       "    </tr>\n",
       "  </tbody>\n",
       "</table>\n",
       "</div>"
      ],
      "text/plain": [
       "             asin                             title  \\\n",
       "121    7900085653  The Elder Scrolls III: Morrowind   \n",
       "6947   B00005OWBL  The Elder Scrolls III: Morrowind   \n",
       "13372  B00065W7CS  The Elder Scrolls III: Morrowind   \n",
       "20117  B000J362E6  The Elder Scrolls III: Morrowind   \n",
       "\n",
       "                                                 feature  \\\n",
       "121                                                   []   \n",
       "6947   [Choose to be a mighty hero on a great quest, ...   \n",
       "13372  [1 Player, RPG, Explore another world and go a...   \n",
       "20117                                                 []   \n",
       "\n",
       "                                             description    price  \\\n",
       "121    [Fullfill your destiny! Snatched from prison b...   $56.75   \n",
       "6947   [Enter the world of Morrowind, a rich province...  $126.43   \n",
       "13372  [Winner of more than 50 Awards. Including RPG ...  $205.78   \n",
       "20117  [Platform:&nbsp;&nbsp;WINDOWS 98/ME/2000/XP&nb...   $28.60   \n",
       "\n",
       "                                                imageURL  \\\n",
       "121                                                   []   \n",
       "6947   [https://images-na.ssl-images-amazon.com/image...   \n",
       "13372  [https://images-na.ssl-images-amazon.com/image...   \n",
       "20117                                                 []   \n",
       "\n",
       "                                         imageURLHighRes  \\\n",
       "121                                                   []   \n",
       "6947   [https://images-na.ssl-images-amazon.com/image...   \n",
       "13372  [https://images-na.ssl-images-amazon.com/image...   \n",
       "20117                                                 []   \n",
       "\n",
       "                                                also_buy  \\\n",
       "121                                         [B005FDUSTA]   \n",
       "6947   [B000067DPM, B005FDUSTA, B0006ZJPSC, B000BI3QK...   \n",
       "13372  [B005FDUSTA, B000067DPM, B000TG72PG, B00CJ7IUG...   \n",
       "20117                                       [B000070MQM]   \n",
       "\n",
       "                                               also_view  \\\n",
       "121    [B00005OWBL, B00065W7CS, B005FDUSTA, B00008XKZ...   \n",
       "6947   [B00008XKZM, B00065W7CS, B005FDUSTA, B01N6WXIY...   \n",
       "13372  [B00008XKZM, B00005OWBL, B005FDUSTA, B000TG72P...   \n",
       "20117  [B0000CNUUP, B00005RD71, B000J39B1C, B00008XKZ...   \n",
       "\n",
       "                                                    rank  \\\n",
       "121    [>#54,769 in Video Games (See Top 100 in Video...   \n",
       "6947   [>#4,973 in Video Games (See Top 100 in Video ...   \n",
       "13372  [>#11,804 in Video Games (See Top 100 in Video...   \n",
       "20117                                                 []   \n",
       "\n",
       "                                                brand  \\\n",
       "121    by\\n    \\n    JinBan Electronic Press Co., Ltd   \n",
       "6947                           by\\n    \\n    Bethesda   \n",
       "13372                          by\\n    \\n    Bethesda   \n",
       "20117                              Bethesda Softworks   \n",
       "\n",
       "                                                category     main_cat tech1  \\\n",
       "121    [Video Games, Retro Gaming & Microconsoles, Xb...  Video Games         \n",
       "6947   [Video Games, Retro Gaming & Microconsoles, Xb...  Video Games         \n",
       "13372  [Video Games, Retro Gaming & Microconsoles, Xb...  Video Games         \n",
       "20117                           [Video Games, PC, Games]     Software         \n",
       "\n",
       "      tech2 similar_item    date fit  \n",
       "121                                   \n",
       "6947                                  \n",
       "13372                                 \n",
       "20117                     </div>      "
      ]
     },
     "execution_count": 11,
     "metadata": {},
     "output_type": "execute_result"
    }
   ],
   "source": [
    "meta_df[meta_df.title == meta_df.title[121]]"
   ]
  },
  {
   "cell_type": "code",
   "execution_count": 12,
   "id": "b6031d8c",
   "metadata": {},
   "outputs": [
    {
     "data": {
      "text/plain": [
       "1210967"
      ]
     },
     "execution_count": 12,
     "metadata": {},
     "output_type": "execute_result"
    }
   ],
   "source": [
    "len(meta_df)"
   ]
  },
  {
   "cell_type": "code",
   "execution_count": 13,
   "id": "0994e208",
   "metadata": {},
   "outputs": [
    {
     "name": "stdout",
     "output_type": "stream",
     "text": [
      "asin : 0\n",
      "title : 81\n",
      "feature : 357009\n",
      "description : 184278\n",
      "price : 0\n",
      "imageURL : 647167\n",
      "imageURLHighRes : 647167\n",
      "also_buy : 833122\n",
      "also_view : 734698\n",
      "rank : 25553\n",
      "brand : 160386\n",
      "category : 70277\n",
      "main_cat : 3469\n",
      "tech1 : 1192380\n",
      "tech2 : 1210703\n",
      "similar_item : 1188616\n",
      "date : 1081524\n",
      "fit : 1169918\n"
     ]
    }
   ],
   "source": [
    "# Number of empty set (\"[]\") for each columns\n",
    "for column in meta_df:\n",
    "    print(f\"{column} : {(meta_df[column].apply(len) == 0).sum()}\")"
   ]
  },
  {
   "cell_type": "code",
   "execution_count": 14,
   "id": "b8252c15",
   "metadata": {},
   "outputs": [
    {
     "name": "stdout",
     "output_type": "stream",
     "text": [
      "asin : 0.0\n",
      "title : 6.68886930857736e-05\n",
      "feature : 0.2948131534550487\n",
      "description : 0.15217425412913813\n",
      "price : 0.0\n",
      "imageURL : 0.53442166466964\n",
      "imageURLHighRes : 0.53442166466964\n",
      "also_buy : 0.687980762481554\n",
      "also_view : 0.6067035683053296\n",
      "rank : 0.02110131820272559\n",
      "brand : 0.13244456702783808\n",
      "category : 0.058033786222085326\n",
      "main_cat : 0.002864652794006773\n",
      "tech1 : 0.984651109402651\n",
      "tech2 : 0.9997819924077205\n",
      "similar_item : 0.9815428496399985\n",
      "date : 0.8931077395172619\n",
      "fit : 0.9661022967595319\n"
     ]
    }
   ],
   "source": [
    "# Percentage of empty set for each columns\n",
    "for columns in meta_df:\n",
    "    print (f\"{columns} : {(meta_df[columns].apply(len) == 0).sum()/len(meta_df)}\")"
   ]
  },
  {
   "cell_type": "code",
   "execution_count": 15,
   "id": "1e83a7d9",
   "metadata": {},
   "outputs": [
    {
     "data": {
      "text/plain": [
       "1484086"
      ]
     },
     "execution_count": 15,
     "metadata": {},
     "output_type": "execute_result"
    }
   ],
   "source": [
    "all_urls = [url for sublist in meta_df['imageURL'] for url in sublist]\n",
    "unique_urls = set(all_urls)\n",
    "len(unique_urls)"
   ]
  },
  {
   "cell_type": "code",
   "execution_count": null,
   "id": "395e47cd",
   "metadata": {},
   "outputs": [],
   "source": [
    "# Find out whether exist duplicate value for imageURL\n",
    "meta_df[meta_df['imageURL'].apply(len) > 1].index.tolist()"
   ]
  },
  {
   "cell_type": "code",
   "execution_count": 17,
   "id": "e51ae323",
   "metadata": {},
   "outputs": [
    {
     "data": {
      "text/plain": [
       "'\\n# Create a boolean mask where True indicates the lengths are not equal\\nmask = meta_df.apply(lambda x: len(x[\\'imageURL\\']) != len(x[\\'imageURLHighRes\\']), axis=1)\\n\\nmismatch_count = mask.sum()\\n\\nif mismatch_count == 0:\\n    print(\"Every imageURL has exactly one corresponding imageURLHighRes.\")\\nelse:\\n    print(f\"There are {mismatch_count} rows where imageURL does not have exactly one corresponding imageURLHighRes.\")\\n'"
      ]
     },
     "execution_count": 17,
     "metadata": {},
     "output_type": "execute_result"
    }
   ],
   "source": [
    "'''\n",
    "# Create a boolean mask where True indicates the lengths are not equal\n",
    "mask = meta_df.apply(lambda x: len(x['imageURL']) != len(x['imageURLHighRes']), axis=1)\n",
    "\n",
    "mismatch_count = mask.sum()\n",
    "\n",
    "if mismatch_count == 0:\n",
    "    print(\"Every imageURL has exactly one corresponding imageURLHighRes.\")\n",
    "else:\n",
    "    print(f\"There are {mismatch_count} rows where imageURL does not have exactly one corresponding imageURLHighRes.\")\n",
    "'''"
   ]
  },
  {
   "cell_type": "code",
   "execution_count": null,
   "id": "85e121db",
   "metadata": {},
   "outputs": [],
   "source": [
    "# Example of rows that contain same iamgeURL \n",
    "mask = meta_df.imageURL.apply(lambda x: x[0] if len(x) > 0 else None) == (meta_df.imageURL[241][0] if len(meta_df.imageURL[241]) > 0 else None)\n",
    "meta_df[mask]"
   ]
  },
  {
   "cell_type": "code",
   "execution_count": 19,
   "id": "9962abe9",
   "metadata": {},
   "outputs": [
    {
     "data": {
      "text/plain": [
       "'\\ntarget_index = 118\\n\\nmask = (meta_df[\\'feature\\'].apply(lambda x: set(x) == set(meta_df.feature[118]))) & (meta_df.index != target_index)\\nmatching_rows = meta_df[mask]\\n\\nif not matching_rows.empty:\\n    print(\"Found matching features in the dataframe at index(es):\", matching_rows.index.tolist())\\nelse:\\n    print(\"No matching features found in the dataframe.\")\\n'"
      ]
     },
     "execution_count": 19,
     "metadata": {},
     "output_type": "execute_result"
    }
   ],
   "source": [
    "'''\n",
    "target_index = 118\n",
    "\n",
    "mask = (meta_df['feature'].apply(lambda x: set(x) == set(meta_df.feature[118]))) & (meta_df.index != target_index)\n",
    "matching_rows = meta_df[mask]\n",
    "\n",
    "if not matching_rows.empty:\n",
    "    print(\"Found matching features in the dataframe at index(es):\", matching_rows.index.tolist())\n",
    "else:\n",
    "    print(\"No matching features found in the dataframe.\")\n",
    "'''"
   ]
  },
  {
   "cell_type": "markdown",
   "id": "e177000d",
   "metadata": {},
   "source": [
    "## Normalization for imageURL and imageURLHighRes columns"
   ]
  },
  {
   "cell_type": "code",
   "execution_count": 20,
   "id": "b6a23444",
   "metadata": {},
   "outputs": [],
   "source": [
    "# Exploding both columns while keeping the corresponding relationships\n",
    "exploded_meta_df = pd.DataFrame({\n",
    "    'asin': meta_df['asin'].repeat(meta_df['imageURL'].str.len()),\n",
    "    'imageURL': [url for sublist in meta_df['imageURL'] for url in sublist],\n",
    "    'imageURLHighRes': [url for sublist in meta_df['imageURLHighRes'] for url in sublist]\n",
    "}).dropna()\n",
    "\n",
    "# Create the image_url table\n",
    "image_url_df = exploded_meta_df[['imageURL', 'imageURLHighRes']].drop_duplicates().reset_index(drop=True)\n",
    "image_url_df['image_url_id'] = range(1, len(image_url_df) + 1)\n",
    "\n",
    "image_url_df = image_url_df[['image_url_id', 'imageURL', 'imageURLHighRes']]\n",
    "\n",
    "# Create the bridge table meta_image\n",
    "meta_image = pd.merge(exploded_meta_df, image_url_df, on=['imageURL', 'imageURLHighRes'], how='inner')[['asin', 'image_url_id']]\n",
    "\n",
    "# image_url_df.to_csv('image_url.csv', index=False)\n",
    "# meta_image.to_csv('meta_image.csv', index=False)"
   ]
  },
  {
   "cell_type": "code",
   "execution_count": 21,
   "id": "a42d17da",
   "metadata": {},
   "outputs": [
    {
     "data": {
      "text/html": [
       "<div>\n",
       "<style scoped>\n",
       "    .dataframe tbody tr th:only-of-type {\n",
       "        vertical-align: middle;\n",
       "    }\n",
       "\n",
       "    .dataframe tbody tr th {\n",
       "        vertical-align: top;\n",
       "    }\n",
       "\n",
       "    .dataframe thead th {\n",
       "        text-align: right;\n",
       "    }\n",
       "</style>\n",
       "<table border=\"1\" class=\"dataframe\">\n",
       "  <thead>\n",
       "    <tr style=\"text-align: right;\">\n",
       "      <th></th>\n",
       "      <th>image_url_id</th>\n",
       "      <th>imageURL</th>\n",
       "      <th>imageURLHighRes</th>\n",
       "    </tr>\n",
       "  </thead>\n",
       "  <tbody>\n",
       "    <tr>\n",
       "      <th>0</th>\n",
       "      <td>1</td>\n",
       "      <td>https://images-na.ssl-images-amazon.com/images...</td>\n",
       "      <td>https://images-na.ssl-images-amazon.com/images...</td>\n",
       "    </tr>\n",
       "    <tr>\n",
       "      <th>1</th>\n",
       "      <td>2</td>\n",
       "      <td>https://images-na.ssl-images-amazon.com/images...</td>\n",
       "      <td>https://images-na.ssl-images-amazon.com/images...</td>\n",
       "    </tr>\n",
       "    <tr>\n",
       "      <th>2</th>\n",
       "      <td>3</td>\n",
       "      <td>https://images-na.ssl-images-amazon.com/images...</td>\n",
       "      <td>https://images-na.ssl-images-amazon.com/images...</td>\n",
       "    </tr>\n",
       "    <tr>\n",
       "      <th>3</th>\n",
       "      <td>4</td>\n",
       "      <td>https://images-na.ssl-images-amazon.com/images...</td>\n",
       "      <td>https://images-na.ssl-images-amazon.com/images...</td>\n",
       "    </tr>\n",
       "    <tr>\n",
       "      <th>4</th>\n",
       "      <td>5</td>\n",
       "      <td>https://images-na.ssl-images-amazon.com/images...</td>\n",
       "      <td>https://images-na.ssl-images-amazon.com/images...</td>\n",
       "    </tr>\n",
       "    <tr>\n",
       "      <th>...</th>\n",
       "      <td>...</td>\n",
       "      <td>...</td>\n",
       "      <td>...</td>\n",
       "    </tr>\n",
       "    <tr>\n",
       "      <th>1484081</th>\n",
       "      <td>1484082</td>\n",
       "      <td>https://images-na.ssl-images-amazon.com/images...</td>\n",
       "      <td>https://images-na.ssl-images-amazon.com/images...</td>\n",
       "    </tr>\n",
       "    <tr>\n",
       "      <th>1484082</th>\n",
       "      <td>1484083</td>\n",
       "      <td>https://images-na.ssl-images-amazon.com/images...</td>\n",
       "      <td>https://images-na.ssl-images-amazon.com/images...</td>\n",
       "    </tr>\n",
       "    <tr>\n",
       "      <th>1484083</th>\n",
       "      <td>1484084</td>\n",
       "      <td>https://images-na.ssl-images-amazon.com/images...</td>\n",
       "      <td>https://images-na.ssl-images-amazon.com/images...</td>\n",
       "    </tr>\n",
       "    <tr>\n",
       "      <th>1484084</th>\n",
       "      <td>1484085</td>\n",
       "      <td>https://images-na.ssl-images-amazon.com/images...</td>\n",
       "      <td>https://images-na.ssl-images-amazon.com/images...</td>\n",
       "    </tr>\n",
       "    <tr>\n",
       "      <th>1484085</th>\n",
       "      <td>1484086</td>\n",
       "      <td>https://images-na.ssl-images-amazon.com/images...</td>\n",
       "      <td>https://images-na.ssl-images-amazon.com/images...</td>\n",
       "    </tr>\n",
       "  </tbody>\n",
       "</table>\n",
       "<p>1484086 rows × 3 columns</p>\n",
       "</div>"
      ],
      "text/plain": [
       "         image_url_id                                           imageURL  \\\n",
       "0                   1  https://images-na.ssl-images-amazon.com/images...   \n",
       "1                   2  https://images-na.ssl-images-amazon.com/images...   \n",
       "2                   3  https://images-na.ssl-images-amazon.com/images...   \n",
       "3                   4  https://images-na.ssl-images-amazon.com/images...   \n",
       "4                   5  https://images-na.ssl-images-amazon.com/images...   \n",
       "...               ...                                                ...   \n",
       "1484081       1484082  https://images-na.ssl-images-amazon.com/images...   \n",
       "1484082       1484083  https://images-na.ssl-images-amazon.com/images...   \n",
       "1484083       1484084  https://images-na.ssl-images-amazon.com/images...   \n",
       "1484084       1484085  https://images-na.ssl-images-amazon.com/images...   \n",
       "1484085       1484086  https://images-na.ssl-images-amazon.com/images...   \n",
       "\n",
       "                                           imageURLHighRes  \n",
       "0        https://images-na.ssl-images-amazon.com/images...  \n",
       "1        https://images-na.ssl-images-amazon.com/images...  \n",
       "2        https://images-na.ssl-images-amazon.com/images...  \n",
       "3        https://images-na.ssl-images-amazon.com/images...  \n",
       "4        https://images-na.ssl-images-amazon.com/images...  \n",
       "...                                                    ...  \n",
       "1484081  https://images-na.ssl-images-amazon.com/images...  \n",
       "1484082  https://images-na.ssl-images-amazon.com/images...  \n",
       "1484083  https://images-na.ssl-images-amazon.com/images...  \n",
       "1484084  https://images-na.ssl-images-amazon.com/images...  \n",
       "1484085  https://images-na.ssl-images-amazon.com/images...  \n",
       "\n",
       "[1484086 rows x 3 columns]"
      ]
     },
     "execution_count": 21,
     "metadata": {},
     "output_type": "execute_result"
    }
   ],
   "source": [
    "image_url_df"
   ]
  },
  {
   "cell_type": "code",
   "execution_count": 22,
   "id": "4f76ea01",
   "metadata": {},
   "outputs": [
    {
     "data": {
      "text/html": [
       "<div>\n",
       "<style scoped>\n",
       "    .dataframe tbody tr th:only-of-type {\n",
       "        vertical-align: middle;\n",
       "    }\n",
       "\n",
       "    .dataframe tbody tr th {\n",
       "        vertical-align: top;\n",
       "    }\n",
       "\n",
       "    .dataframe thead th {\n",
       "        text-align: right;\n",
       "    }\n",
       "</style>\n",
       "<table border=\"1\" class=\"dataframe\">\n",
       "  <thead>\n",
       "    <tr style=\"text-align: right;\">\n",
       "      <th></th>\n",
       "      <th>asin</th>\n",
       "      <th>image_url_id</th>\n",
       "    </tr>\n",
       "  </thead>\n",
       "  <tbody>\n",
       "    <tr>\n",
       "      <th>0</th>\n",
       "      <td>0042000742</td>\n",
       "      <td>1</td>\n",
       "    </tr>\n",
       "    <tr>\n",
       "      <th>1</th>\n",
       "      <td>0078764343</td>\n",
       "      <td>2</td>\n",
       "    </tr>\n",
       "    <tr>\n",
       "      <th>2</th>\n",
       "      <td>0324411812</td>\n",
       "      <td>3</td>\n",
       "    </tr>\n",
       "    <tr>\n",
       "      <th>3</th>\n",
       "      <td>0324411812</td>\n",
       "      <td>3</td>\n",
       "    </tr>\n",
       "    <tr>\n",
       "      <th>4</th>\n",
       "      <td>0439335310</td>\n",
       "      <td>4</td>\n",
       "    </tr>\n",
       "    <tr>\n",
       "      <th>...</th>\n",
       "      <td>...</td>\n",
       "      <td>...</td>\n",
       "    </tr>\n",
       "    <tr>\n",
       "      <th>1948663</th>\n",
       "      <td>B01HJ3E0PQ</td>\n",
       "      <td>1484082</td>\n",
       "    </tr>\n",
       "    <tr>\n",
       "      <th>1948664</th>\n",
       "      <td>B01HJ3E0PQ</td>\n",
       "      <td>1484083</td>\n",
       "    </tr>\n",
       "    <tr>\n",
       "      <th>1948665</th>\n",
       "      <td>B01HJCCLOY</td>\n",
       "      <td>1484084</td>\n",
       "    </tr>\n",
       "    <tr>\n",
       "      <th>1948666</th>\n",
       "      <td>B01HJF79XO</td>\n",
       "      <td>1484085</td>\n",
       "    </tr>\n",
       "    <tr>\n",
       "      <th>1948667</th>\n",
       "      <td>B01HJF79XO</td>\n",
       "      <td>1484086</td>\n",
       "    </tr>\n",
       "  </tbody>\n",
       "</table>\n",
       "<p>1948668 rows × 2 columns</p>\n",
       "</div>"
      ],
      "text/plain": [
       "               asin  image_url_id\n",
       "0        0042000742             1\n",
       "1        0078764343             2\n",
       "2        0324411812             3\n",
       "3        0324411812             3\n",
       "4        0439335310             4\n",
       "...             ...           ...\n",
       "1948663  B01HJ3E0PQ       1484082\n",
       "1948664  B01HJ3E0PQ       1484083\n",
       "1948665  B01HJCCLOY       1484084\n",
       "1948666  B01HJF79XO       1484085\n",
       "1948667  B01HJF79XO       1484086\n",
       "\n",
       "[1948668 rows x 2 columns]"
      ]
     },
     "execution_count": 22,
     "metadata": {},
     "output_type": "execute_result"
    }
   ],
   "source": [
    "meta_image"
   ]
  },
  {
   "cell_type": "code",
   "execution_count": 23,
   "id": "d6417730",
   "metadata": {},
   "outputs": [
    {
     "data": {
      "text/plain": [
       "['https://images-na.ssl-images-amazon.com/images/I/51oaA-KAaiL.jpg',\n",
       " 'https://images-na.ssl-images-amazon.com/images/I/51oaA-KAaiL.jpg']"
      ]
     },
     "execution_count": 23,
     "metadata": {},
     "output_type": "execute_result"
    }
   ],
   "source": [
    "# Two same link for third index row\n",
    "meta_df.imageURLHighRes[3]"
   ]
  },
  {
   "cell_type": "markdown",
   "id": "77674fc6",
   "metadata": {},
   "source": [
    "## Check the normalized data"
   ]
  },
  {
   "cell_type": "code",
   "execution_count": 24,
   "id": "2d0de329",
   "metadata": {},
   "outputs": [
    {
     "data": {
      "text/plain": [
       "'https://images-na.ssl-images-amazon.com/images/I/51mM1Xm7KkL._SX38_SY50_CR,0,0,38,50_.jpg'"
      ]
     },
     "execution_count": 24,
     "metadata": {},
     "output_type": "execute_result"
    }
   ],
   "source": [
    "image_url_df.iloc[1484083]['imageURL']"
   ]
  },
  {
   "cell_type": "code",
   "execution_count": 25,
   "id": "cfd9ae1c",
   "metadata": {},
   "outputs": [
    {
     "data": {
      "text/plain": [
       "1210965    [https://images-na.ssl-images-amazon.com/image...\n",
       "Name: imageURL, dtype: object"
      ]
     },
     "execution_count": 25,
     "metadata": {},
     "output_type": "execute_result"
    }
   ],
   "source": [
    "meta_df[meta_df['asin'] == 'B01HJCCLOY']['imageURL']"
   ]
  },
  {
   "cell_type": "code",
   "execution_count": 26,
   "id": "039d7d2c",
   "metadata": {},
   "outputs": [
    {
     "data": {
      "text/plain": [
       "'https://images-na.ssl-images-amazon.com/images/I/51mM1Xm7KkL._SX38_SY50_CR,0,0,38,50_.jpg'"
      ]
     },
     "execution_count": 26,
     "metadata": {},
     "output_type": "execute_result"
    }
   ],
   "source": [
    "meta_df.iloc[1210965]['imageURL'][0]"
   ]
  },
  {
   "cell_type": "code",
   "execution_count": 27,
   "id": "9bbc76a9",
   "metadata": {},
   "outputs": [
    {
     "data": {
      "text/plain": [
       "True"
      ]
     },
     "execution_count": 27,
     "metadata": {},
     "output_type": "execute_result"
    }
   ],
   "source": [
    "image_url_df.iloc[1484083]['imageURL'] == meta_df.iloc[1210965]['imageURL'][0]"
   ]
  },
  {
   "cell_type": "markdown",
   "id": "eaca8835",
   "metadata": {},
   "source": [
    "## Normalization for \"also_buy\""
   ]
  },
  {
   "cell_type": "code",
   "execution_count": 28,
   "id": "a1df6d7c",
   "metadata": {},
   "outputs": [
    {
     "data": {
      "text/plain": [
       "0                                                         []\n",
       "1                                               [B00PADROYW]\n",
       "2                                                         []\n",
       "3                                                         []\n",
       "4                                                         []\n",
       "                                 ...                        \n",
       "1210962    [B01MXE4EVV, B014HFML6E, B07HGR7P4Z, B000F3T3C...\n",
       "1210963                                                   []\n",
       "1210964    [B01M6DA5RJ, B0002F6BFG, B06XRGPHM3, B06XG2N43...\n",
       "1210965                                         [B004L690XW]\n",
       "1210966    [B073XHMCB4, B0714J1MPR, B072MZN33K, B01MYFLZR...\n",
       "Name: also_buy, Length: 1210967, dtype: object"
      ]
     },
     "execution_count": 28,
     "metadata": {},
     "output_type": "execute_result"
    }
   ],
   "source": [
    "meta_df.also_buy"
   ]
  },
  {
   "cell_type": "code",
   "execution_count": 29,
   "id": "b62aeaec",
   "metadata": {},
   "outputs": [
    {
     "data": {
      "text/plain": [
       "1087048"
      ]
     },
     "execution_count": 29,
     "metadata": {},
     "output_type": "execute_result"
    }
   ],
   "source": [
    "all_buy = [buy for sublist in meta_df['also_buy'] for buy in sublist]\n",
    "unique_buy = set(all_buy)\n",
    "len(unique_buy)"
   ]
  },
  {
   "cell_type": "code",
   "execution_count": 30,
   "id": "52af948e",
   "metadata": {},
   "outputs": [
    {
     "data": {
      "text/plain": [
       "313055"
      ]
     },
     "execution_count": 30,
     "metadata": {},
     "output_type": "execute_result"
    }
   ],
   "source": [
    "len(meta_df[meta_df['also_buy'].apply(len) > 1].index.tolist())"
   ]
  },
  {
   "cell_type": "code",
   "execution_count": 31,
   "id": "3dfaf170",
   "metadata": {},
   "outputs": [],
   "source": [
    "# Explode the also_buy column\n",
    "exploded_also_buy_df = meta_df.explode('also_buy', ignore_index=True)\n",
    "\n",
    "# Filter out rows where also_buy is NaN and reset the index\n",
    "exploded_also_buy_df = exploded_also_buy_df[exploded_also_buy_df['also_buy'].notna()].reset_index(drop=True)\n",
    "\n",
    "# Create bridge table\n",
    "also_buy = exploded_also_buy_df[['asin', 'also_buy']]\n",
    "\n",
    "# also_buy.to_csv('also_buy.csv', index=False)"
   ]
  },
  {
   "cell_type": "code",
   "execution_count": 32,
   "id": "6fd34709",
   "metadata": {},
   "outputs": [
    {
     "data": {
      "text/html": [
       "<div>\n",
       "<style scoped>\n",
       "    .dataframe tbody tr th:only-of-type {\n",
       "        vertical-align: middle;\n",
       "    }\n",
       "\n",
       "    .dataframe tbody tr th {\n",
       "        vertical-align: top;\n",
       "    }\n",
       "\n",
       "    .dataframe thead th {\n",
       "        text-align: right;\n",
       "    }\n",
       "</style>\n",
       "<table border=\"1\" class=\"dataframe\">\n",
       "  <thead>\n",
       "    <tr style=\"text-align: right;\">\n",
       "      <th></th>\n",
       "      <th>asin</th>\n",
       "      <th>also_buy</th>\n",
       "    </tr>\n",
       "  </thead>\n",
       "  <tbody>\n",
       "    <tr>\n",
       "      <th>0</th>\n",
       "      <td>0078764343</td>\n",
       "      <td>B00PADROYW</td>\n",
       "    </tr>\n",
       "    <tr>\n",
       "      <th>1</th>\n",
       "      <td>0439339987</td>\n",
       "      <td>B00002S6E5</td>\n",
       "    </tr>\n",
       "    <tr>\n",
       "      <th>2</th>\n",
       "      <td>0439339987</td>\n",
       "      <td>B000NQI666</td>\n",
       "    </tr>\n",
       "    <tr>\n",
       "      <th>3</th>\n",
       "      <td>0439339987</td>\n",
       "      <td>B000AQJ4AG</td>\n",
       "    </tr>\n",
       "    <tr>\n",
       "      <th>4</th>\n",
       "      <td>0439339987</td>\n",
       "      <td>B000FETCF0</td>\n",
       "    </tr>\n",
       "    <tr>\n",
       "      <th>...</th>\n",
       "      <td>...</td>\n",
       "      <td>...</td>\n",
       "    </tr>\n",
       "    <tr>\n",
       "      <th>10721928</th>\n",
       "      <td>B01HJF79XO</td>\n",
       "      <td>B073XHMCB4</td>\n",
       "    </tr>\n",
       "    <tr>\n",
       "      <th>10721929</th>\n",
       "      <td>B01HJF79XO</td>\n",
       "      <td>B0714J1MPR</td>\n",
       "    </tr>\n",
       "    <tr>\n",
       "      <th>10721930</th>\n",
       "      <td>B01HJF79XO</td>\n",
       "      <td>B072MZN33K</td>\n",
       "    </tr>\n",
       "    <tr>\n",
       "      <th>10721931</th>\n",
       "      <td>B01HJF79XO</td>\n",
       "      <td>B01MYFLZR7</td>\n",
       "    </tr>\n",
       "    <tr>\n",
       "      <th>10721932</th>\n",
       "      <td>B01HJF79XO</td>\n",
       "      <td>B06XDRSH35</td>\n",
       "    </tr>\n",
       "  </tbody>\n",
       "</table>\n",
       "<p>10721933 rows × 2 columns</p>\n",
       "</div>"
      ],
      "text/plain": [
       "                asin    also_buy\n",
       "0         0078764343  B00PADROYW\n",
       "1         0439339987  B00002S6E5\n",
       "2         0439339987  B000NQI666\n",
       "3         0439339987  B000AQJ4AG\n",
       "4         0439339987  B000FETCF0\n",
       "...              ...         ...\n",
       "10721928  B01HJF79XO  B073XHMCB4\n",
       "10721929  B01HJF79XO  B0714J1MPR\n",
       "10721930  B01HJF79XO  B072MZN33K\n",
       "10721931  B01HJF79XO  B01MYFLZR7\n",
       "10721932  B01HJF79XO  B06XDRSH35\n",
       "\n",
       "[10721933 rows x 2 columns]"
      ]
     },
     "execution_count": 32,
     "metadata": {},
     "output_type": "execute_result"
    }
   ],
   "source": [
    "also_buy"
   ]
  },
  {
   "cell_type": "markdown",
   "id": "0acf51f7",
   "metadata": {},
   "source": [
    "## Normalization for \"also_view\""
   ]
  },
  {
   "cell_type": "code",
   "execution_count": 33,
   "id": "7cbc19b6",
   "metadata": {},
   "outputs": [
    {
     "data": {
      "text/plain": [
       "0                                                         []\n",
       "1          [B0050SY5BM, B072NQJCW5, B000TI836G, B002SRSQ7...\n",
       "2                                                         []\n",
       "3                                                         []\n",
       "4                                               [B000BCZ7U0]\n",
       "                                 ...                        \n",
       "1210962    [B07BF2PQHM, B00012AST0, B0094AH3Q6, B0007P0LP...\n",
       "1210963                                                   []\n",
       "1210964                             [B01GWCHP2U, B0009PW3RE]\n",
       "1210965                                         [B0000C23HX]\n",
       "1210966    [B071KW44QB, B073XHMCB4, B07KZ4HB41, B01EHI4MO...\n",
       "Name: also_view, Length: 1210967, dtype: object"
      ]
     },
     "execution_count": 33,
     "metadata": {},
     "output_type": "execute_result"
    }
   ],
   "source": [
    "meta_df.also_view"
   ]
  },
  {
   "cell_type": "code",
   "execution_count": 34,
   "id": "a609a216",
   "metadata": {},
   "outputs": [
    {
     "data": {
      "text/plain": [
       "1357984"
      ]
     },
     "execution_count": 34,
     "metadata": {},
     "output_type": "execute_result"
    }
   ],
   "source": [
    "all_view = [view for sublist in meta_df['also_view'] for view in sublist]\n",
    "unique_view = set(all_view)\n",
    "len(unique_view)"
   ]
  },
  {
   "cell_type": "code",
   "execution_count": 35,
   "id": "bc85892a",
   "metadata": {},
   "outputs": [
    {
     "data": {
      "text/plain": [
       "422785"
      ]
     },
     "execution_count": 35,
     "metadata": {},
     "output_type": "execute_result"
    }
   ],
   "source": [
    "len(meta_df[meta_df['also_view'].apply(len) > 1].index.tolist())"
   ]
  },
  {
   "cell_type": "code",
   "execution_count": 36,
   "id": "f8b05c24",
   "metadata": {},
   "outputs": [],
   "source": [
    "# Same process as normalization \"also buy\"\n",
    "exploded_also_view_df = meta_df.explode('also_view', ignore_index=True)\n",
    "\n",
    "exploded_also_view_df = exploded_also_view_df[exploded_also_view_df['also_view'].notna()].reset_index(drop=True)\n",
    "\n",
    "also_view = exploded_also_view_df[['asin', 'also_view']]\n",
    "\n",
    "# also_view.to_csv('also_view.csv', index=False)"
   ]
  },
  {
   "cell_type": "code",
   "execution_count": 37,
   "id": "f3af456d",
   "metadata": {},
   "outputs": [
    {
     "data": {
      "text/html": [
       "<div>\n",
       "<style scoped>\n",
       "    .dataframe tbody tr th:only-of-type {\n",
       "        vertical-align: middle;\n",
       "    }\n",
       "\n",
       "    .dataframe tbody tr th {\n",
       "        vertical-align: top;\n",
       "    }\n",
       "\n",
       "    .dataframe thead th {\n",
       "        text-align: right;\n",
       "    }\n",
       "</style>\n",
       "<table border=\"1\" class=\"dataframe\">\n",
       "  <thead>\n",
       "    <tr style=\"text-align: right;\">\n",
       "      <th></th>\n",
       "      <th>asin</th>\n",
       "      <th>also_view</th>\n",
       "    </tr>\n",
       "  </thead>\n",
       "  <tbody>\n",
       "    <tr>\n",
       "      <th>0</th>\n",
       "      <td>0078764343</td>\n",
       "      <td>B0050SY5BM</td>\n",
       "    </tr>\n",
       "    <tr>\n",
       "      <th>1</th>\n",
       "      <td>0078764343</td>\n",
       "      <td>B072NQJCW5</td>\n",
       "    </tr>\n",
       "    <tr>\n",
       "      <th>2</th>\n",
       "      <td>0078764343</td>\n",
       "      <td>B000TI836G</td>\n",
       "    </tr>\n",
       "    <tr>\n",
       "      <th>3</th>\n",
       "      <td>0078764343</td>\n",
       "      <td>B002SRSQ72</td>\n",
       "    </tr>\n",
       "    <tr>\n",
       "      <th>4</th>\n",
       "      <td>0078764343</td>\n",
       "      <td>B000TG530M</td>\n",
       "    </tr>\n",
       "    <tr>\n",
       "      <th>...</th>\n",
       "      <td>...</td>\n",
       "      <td>...</td>\n",
       "    </tr>\n",
       "    <tr>\n",
       "      <th>12493783</th>\n",
       "      <td>B01HJF79XO</td>\n",
       "      <td>1421593041</td>\n",
       "    </tr>\n",
       "    <tr>\n",
       "      <th>12493784</th>\n",
       "      <td>B01HJF79XO</td>\n",
       "      <td>B07CLP4ZQM</td>\n",
       "    </tr>\n",
       "    <tr>\n",
       "      <th>12493785</th>\n",
       "      <td>B01HJF79XO</td>\n",
       "      <td>B01ICR1WL8</td>\n",
       "    </tr>\n",
       "    <tr>\n",
       "      <th>12493786</th>\n",
       "      <td>B01HJF79XO</td>\n",
       "      <td>B0746DTJN3</td>\n",
       "    </tr>\n",
       "    <tr>\n",
       "      <th>12493787</th>\n",
       "      <td>B01HJF79XO</td>\n",
       "      <td>B07JJ6HQGF</td>\n",
       "    </tr>\n",
       "  </tbody>\n",
       "</table>\n",
       "<p>12493788 rows × 2 columns</p>\n",
       "</div>"
      ],
      "text/plain": [
       "                asin   also_view\n",
       "0         0078764343  B0050SY5BM\n",
       "1         0078764343  B072NQJCW5\n",
       "2         0078764343  B000TI836G\n",
       "3         0078764343  B002SRSQ72\n",
       "4         0078764343  B000TG530M\n",
       "...              ...         ...\n",
       "12493783  B01HJF79XO  1421593041\n",
       "12493784  B01HJF79XO  B07CLP4ZQM\n",
       "12493785  B01HJF79XO  B01ICR1WL8\n",
       "12493786  B01HJF79XO  B0746DTJN3\n",
       "12493787  B01HJF79XO  B07JJ6HQGF\n",
       "\n",
       "[12493788 rows x 2 columns]"
      ]
     },
     "execution_count": 37,
     "metadata": {},
     "output_type": "execute_result"
    }
   ],
   "source": [
    "also_view"
   ]
  },
  {
   "cell_type": "code",
   "execution_count": 38,
   "id": "aa1d4659",
   "metadata": {},
   "outputs": [],
   "source": [
    "pd.set_option('display.max_columns', None)      \n",
    "pd.set_option('display.width', None)            \n",
    "pd.set_option('display.max_colwidth', None)     "
   ]
  },
  {
   "cell_type": "code",
   "execution_count": 39,
   "id": "e7bc49db",
   "metadata": {},
   "outputs": [
    {
     "data": {
      "text/plain": [
       "['>#2,623,937 in Toys &amp; Games (See Top 100 in Toys &amp; Games)',\n",
       " '>#39,015 in Video Games >; PC Games']"
      ]
     },
     "execution_count": 39,
     "metadata": {},
     "output_type": "execute_result"
    }
   ],
   "source": [
    "meta_df['rank'][0]"
   ]
  },
  {
   "cell_type": "code",
   "execution_count": 40,
   "id": "b77193a1",
   "metadata": {},
   "outputs": [
    {
     "data": {
      "text/plain": [
       "['>#105,263 in Video Games (See Top 100 in Video Games)',\n",
       " '>#56 in Video Games >; Xbox 360 >; Accessories >; Controllers >; Joysticks',\n",
       " '>#70,640 in Video Games >; Accessories']"
      ]
     },
     "execution_count": 40,
     "metadata": {},
     "output_type": "execute_result"
    }
   ],
   "source": [
    "meta_df['rank'][3]"
   ]
  },
  {
   "cell_type": "markdown",
   "id": "30411bc9",
   "metadata": {},
   "source": [
    "## Normalization for \"category\""
   ]
  },
  {
   "cell_type": "code",
   "execution_count": 41,
   "id": "c6331202",
   "metadata": {},
   "outputs": [
    {
     "data": {
      "text/plain": [
       "['Video Games', 'PC', 'Games', '</span></span></span>']"
      ]
     },
     "execution_count": 41,
     "metadata": {},
     "output_type": "execute_result"
    }
   ],
   "source": [
    "meta_df['category'][11]"
   ]
  },
  {
   "cell_type": "code",
   "execution_count": 42,
   "id": "c29ff000",
   "metadata": {},
   "outputs": [],
   "source": [
    "# remove '</span></span></span>' that appear in some list\n",
    "meta_df['category'] = meta_df['category'].apply(lambda x: [item for item in x if item != '</span></span></span>'])"
   ]
  },
  {
   "cell_type": "code",
   "execution_count": 43,
   "id": "de36e64c",
   "metadata": {},
   "outputs": [],
   "source": [
    "# Extract unique categories\n",
    "all_categories = meta_df.explode('category')['category']\n",
    "unique_categories = all_categories.drop_duplicates().dropna().reset_index(drop=True)"
   ]
  },
  {
   "cell_type": "code",
   "execution_count": 44,
   "id": "23086f6f",
   "metadata": {},
   "outputs": [],
   "source": [
    "Category = pd.DataFrame({\n",
    "    'CID': range(1, len(unique_categories) + 1),\n",
    "    'Category': unique_categories\n",
    "})"
   ]
  },
  {
   "cell_type": "code",
   "execution_count": 45,
   "id": "7781335b",
   "metadata": {
    "scrolled": true
   },
   "outputs": [
    {
     "data": {
      "text/html": [
       "<div>\n",
       "<style scoped>\n",
       "    .dataframe tbody tr th:only-of-type {\n",
       "        vertical-align: middle;\n",
       "    }\n",
       "\n",
       "    .dataframe tbody tr th {\n",
       "        vertical-align: top;\n",
       "    }\n",
       "\n",
       "    .dataframe thead th {\n",
       "        text-align: right;\n",
       "    }\n",
       "</style>\n",
       "<table border=\"1\" class=\"dataframe\">\n",
       "  <thead>\n",
       "    <tr style=\"text-align: right;\">\n",
       "      <th></th>\n",
       "      <th>CID</th>\n",
       "      <th>asin</th>\n",
       "    </tr>\n",
       "  </thead>\n",
       "  <tbody>\n",
       "    <tr>\n",
       "      <th>0</th>\n",
       "      <td>1</td>\n",
       "      <td>0042000742</td>\n",
       "    </tr>\n",
       "    <tr>\n",
       "      <th>1</th>\n",
       "      <td>2</td>\n",
       "      <td>0042000742</td>\n",
       "    </tr>\n",
       "    <tr>\n",
       "      <th>2</th>\n",
       "      <td>3</td>\n",
       "      <td>0042000742</td>\n",
       "    </tr>\n",
       "    <tr>\n",
       "      <th>3</th>\n",
       "      <td>1</td>\n",
       "      <td>0078764343</td>\n",
       "    </tr>\n",
       "    <tr>\n",
       "      <th>4</th>\n",
       "      <td>4</td>\n",
       "      <td>0078764343</td>\n",
       "    </tr>\n",
       "    <tr>\n",
       "      <th>...</th>\n",
       "      <td>...</td>\n",
       "      <td>...</td>\n",
       "    </tr>\n",
       "    <tr>\n",
       "      <th>5756163</th>\n",
       "      <td>167788</td>\n",
       "      <td>B01HJCCLOY</td>\n",
       "    </tr>\n",
       "    <tr>\n",
       "      <th>5756164</th>\n",
       "      <td>167815</td>\n",
       "      <td>B01HJCCLOY</td>\n",
       "    </tr>\n",
       "    <tr>\n",
       "      <th>5756165</th>\n",
       "      <td>167786</td>\n",
       "      <td>B01HJF79XO</td>\n",
       "    </tr>\n",
       "    <tr>\n",
       "      <th>5756166</th>\n",
       "      <td>167823</td>\n",
       "      <td>B01HJF79XO</td>\n",
       "    </tr>\n",
       "    <tr>\n",
       "      <th>5756167</th>\n",
       "      <td>167787</td>\n",
       "      <td>B01HJF79XO</td>\n",
       "    </tr>\n",
       "  </tbody>\n",
       "</table>\n",
       "<p>5756168 rows × 2 columns</p>\n",
       "</div>"
      ],
      "text/plain": [
       "            CID        asin\n",
       "0             1  0042000742\n",
       "1             2  0042000742\n",
       "2             3  0042000742\n",
       "3             1  0078764343\n",
       "4             4  0078764343\n",
       "...         ...         ...\n",
       "5756163  167788  B01HJCCLOY\n",
       "5756164  167815  B01HJCCLOY\n",
       "5756165  167786  B01HJF79XO\n",
       "5756166  167823  B01HJF79XO\n",
       "5756167  167787  B01HJF79XO\n",
       "\n",
       "[5756168 rows x 2 columns]"
      ]
     },
     "execution_count": 45,
     "metadata": {},
     "output_type": "execute_result"
    }
   ],
   "source": [
    "# Create Category table\n",
    "Category = pd.DataFrame({\n",
    "    'CID': range(1, len(unique_categories) + 1),\n",
    "    'Category': unique_categories\n",
    "})\n",
    "\n",
    "category_to_cid_map = Category.set_index('Category')['CID'].to_dict()\n",
    "\n",
    "# Create bridge table\n",
    "bridge_data = []\n",
    "for index, row in meta_df.iterrows():\n",
    "    for category in row['category']:\n",
    "        bridge_data.append({'asin': row['asin'], 'CID': category_to_cid_map[category]})\n",
    "meta_category = pd.DataFrame(bridge_data)\n",
    "meta_category[['CID', 'asin']]\n",
    "\n",
    "\n",
    "# Category.to_csv('Category.csv', index=False)\n",
    "# meta_category.to_csv('meta_category.csv', index=False)"
   ]
  },
  {
   "cell_type": "code",
   "execution_count": 46,
   "id": "b046e2f7",
   "metadata": {},
   "outputs": [
    {
     "data": {
      "text/html": [
       "<div>\n",
       "<style scoped>\n",
       "    .dataframe tbody tr th:only-of-type {\n",
       "        vertical-align: middle;\n",
       "    }\n",
       "\n",
       "    .dataframe tbody tr th {\n",
       "        vertical-align: top;\n",
       "    }\n",
       "\n",
       "    .dataframe thead th {\n",
       "        text-align: right;\n",
       "    }\n",
       "</style>\n",
       "<table border=\"1\" class=\"dataframe\">\n",
       "  <thead>\n",
       "    <tr style=\"text-align: right;\">\n",
       "      <th></th>\n",
       "      <th>CID</th>\n",
       "      <th>Category</th>\n",
       "    </tr>\n",
       "  </thead>\n",
       "  <tbody>\n",
       "    <tr>\n",
       "      <th>0</th>\n",
       "      <td>1</td>\n",
       "      <td>Video Games</td>\n",
       "    </tr>\n",
       "    <tr>\n",
       "      <th>1</th>\n",
       "      <td>2</td>\n",
       "      <td>PC</td>\n",
       "    </tr>\n",
       "    <tr>\n",
       "      <th>2</th>\n",
       "      <td>3</td>\n",
       "      <td>Games</td>\n",
       "    </tr>\n",
       "    <tr>\n",
       "      <th>3</th>\n",
       "      <td>4</td>\n",
       "      <td>Xbox 360</td>\n",
       "    </tr>\n",
       "    <tr>\n",
       "      <th>4</th>\n",
       "      <td>5</td>\n",
       "      <td>Retro Gaming &amp; Microconsoles</td>\n",
       "    </tr>\n",
       "    <tr>\n",
       "      <th>5</th>\n",
       "      <td>6</td>\n",
       "      <td>Super Nintendo</td>\n",
       "    </tr>\n",
       "    <tr>\n",
       "      <th>6</th>\n",
       "      <td>7</td>\n",
       "      <td>Accessories</td>\n",
       "    </tr>\n",
       "    <tr>\n",
       "      <th>7</th>\n",
       "      <td>8</td>\n",
       "      <td>Controllers</td>\n",
       "    </tr>\n",
       "    <tr>\n",
       "      <th>8</th>\n",
       "      <td>9</td>\n",
       "      <td>Joysticks</td>\n",
       "    </tr>\n",
       "    <tr>\n",
       "      <th>9</th>\n",
       "      <td>10</td>\n",
       "      <td>Original PCB used from Xbox 360 Control Pad (to ensure 100% compatibility)</td>\n",
       "    </tr>\n",
       "  </tbody>\n",
       "</table>\n",
       "</div>"
      ],
      "text/plain": [
       "   CID  \\\n",
       "0    1   \n",
       "1    2   \n",
       "2    3   \n",
       "3    4   \n",
       "4    5   \n",
       "5    6   \n",
       "6    7   \n",
       "7    8   \n",
       "8    9   \n",
       "9   10   \n",
       "\n",
       "                                                                     Category  \n",
       "0                                                                 Video Games  \n",
       "1                                                                          PC  \n",
       "2                                                                       Games  \n",
       "3                                                                    Xbox 360  \n",
       "4                                                Retro Gaming & Microconsoles  \n",
       "5                                                              Super Nintendo  \n",
       "6                                                                 Accessories  \n",
       "7                                                                 Controllers  \n",
       "8                                                                   Joysticks  \n",
       "9  Original PCB used from Xbox 360 Control Pad (to ensure 100% compatibility)  "
      ]
     },
     "execution_count": 46,
     "metadata": {},
     "output_type": "execute_result"
    }
   ],
   "source": [
    "Category.head(10)"
   ]
  },
  {
   "cell_type": "code",
   "execution_count": 47,
   "id": "1bfea5f6",
   "metadata": {},
   "outputs": [
    {
     "data": {
      "text/html": [
       "<div>\n",
       "<style scoped>\n",
       "    .dataframe tbody tr th:only-of-type {\n",
       "        vertical-align: middle;\n",
       "    }\n",
       "\n",
       "    .dataframe tbody tr th {\n",
       "        vertical-align: top;\n",
       "    }\n",
       "\n",
       "    .dataframe thead th {\n",
       "        text-align: right;\n",
       "    }\n",
       "</style>\n",
       "<table border=\"1\" class=\"dataframe\">\n",
       "  <thead>\n",
       "    <tr style=\"text-align: right;\">\n",
       "      <th></th>\n",
       "      <th>asin</th>\n",
       "      <th>CID</th>\n",
       "    </tr>\n",
       "  </thead>\n",
       "  <tbody>\n",
       "    <tr>\n",
       "      <th>0</th>\n",
       "      <td>0042000742</td>\n",
       "      <td>1</td>\n",
       "    </tr>\n",
       "    <tr>\n",
       "      <th>1</th>\n",
       "      <td>0042000742</td>\n",
       "      <td>2</td>\n",
       "    </tr>\n",
       "    <tr>\n",
       "      <th>2</th>\n",
       "      <td>0042000742</td>\n",
       "      <td>3</td>\n",
       "    </tr>\n",
       "    <tr>\n",
       "      <th>3</th>\n",
       "      <td>0078764343</td>\n",
       "      <td>1</td>\n",
       "    </tr>\n",
       "    <tr>\n",
       "      <th>4</th>\n",
       "      <td>0078764343</td>\n",
       "      <td>4</td>\n",
       "    </tr>\n",
       "    <tr>\n",
       "      <th>...</th>\n",
       "      <td>...</td>\n",
       "      <td>...</td>\n",
       "    </tr>\n",
       "    <tr>\n",
       "      <th>5756163</th>\n",
       "      <td>B01HJCCLOY</td>\n",
       "      <td>167788</td>\n",
       "    </tr>\n",
       "    <tr>\n",
       "      <th>5756164</th>\n",
       "      <td>B01HJCCLOY</td>\n",
       "      <td>167815</td>\n",
       "    </tr>\n",
       "    <tr>\n",
       "      <th>5756165</th>\n",
       "      <td>B01HJF79XO</td>\n",
       "      <td>167786</td>\n",
       "    </tr>\n",
       "    <tr>\n",
       "      <th>5756166</th>\n",
       "      <td>B01HJF79XO</td>\n",
       "      <td>167823</td>\n",
       "    </tr>\n",
       "    <tr>\n",
       "      <th>5756167</th>\n",
       "      <td>B01HJF79XO</td>\n",
       "      <td>167787</td>\n",
       "    </tr>\n",
       "  </tbody>\n",
       "</table>\n",
       "<p>5756168 rows × 2 columns</p>\n",
       "</div>"
      ],
      "text/plain": [
       "               asin     CID\n",
       "0        0042000742       1\n",
       "1        0042000742       2\n",
       "2        0042000742       3\n",
       "3        0078764343       1\n",
       "4        0078764343       4\n",
       "...             ...     ...\n",
       "5756163  B01HJCCLOY  167788\n",
       "5756164  B01HJCCLOY  167815\n",
       "5756165  B01HJF79XO  167786\n",
       "5756166  B01HJF79XO  167823\n",
       "5756167  B01HJF79XO  167787\n",
       "\n",
       "[5756168 rows x 2 columns]"
      ]
     },
     "execution_count": 47,
     "metadata": {},
     "output_type": "execute_result"
    }
   ],
   "source": [
    "meta_category"
   ]
  },
  {
   "cell_type": "code",
   "execution_count": null,
   "id": "624e3ee6",
   "metadata": {},
   "outputs": [],
   "source": []
  },
  {
   "cell_type": "code",
   "execution_count": null,
   "id": "a88614fa",
   "metadata": {},
   "outputs": [],
   "source": []
  },
  {
   "cell_type": "code",
   "execution_count": 48,
   "id": "78a841c1",
   "metadata": {},
   "outputs": [
    {
     "data": {
      "text/plain": [
       "'by\\n    \\n    EA Games'"
      ]
     },
     "execution_count": 48,
     "metadata": {},
     "output_type": "execute_result"
    }
   ],
   "source": [
    "meta_df['brand'][1]"
   ]
  },
  {
   "cell_type": "code",
   "execution_count": 49,
   "id": "33c3aded",
   "metadata": {},
   "outputs": [
    {
     "data": {
      "text/plain": [
       "'by\\n    \\n    Square Enix'"
      ]
     },
     "execution_count": 49,
     "metadata": {},
     "output_type": "execute_result"
    }
   ],
   "source": [
    "meta_df['brand'][10000]"
   ]
  },
  {
   "cell_type": "code",
   "execution_count": 50,
   "id": "2383da7e",
   "metadata": {},
   "outputs": [],
   "source": [
    "# remove \"by\\n    \\n    \" \n",
    "meta_df['brand'] = meta_df['brand'].str.replace('by\\n    \\n    ', '', regex=False)"
   ]
  },
  {
   "cell_type": "code",
   "execution_count": 51,
   "id": "c3a39a6e",
   "metadata": {},
   "outputs": [
    {
     "data": {
      "text/plain": [
       "'EA Games'"
      ]
     },
     "execution_count": 51,
     "metadata": {},
     "output_type": "execute_result"
    }
   ],
   "source": [
    "meta_df['brand'][1]"
   ]
  },
  {
   "cell_type": "code",
   "execution_count": null,
   "id": "1ab5272a",
   "metadata": {},
   "outputs": [],
   "source": [
    "unique_brands = meta_df['brand'].dropna().unique().tolist()\n",
    "print(unique_brands)"
   ]
  },
  {
   "cell_type": "code",
   "execution_count": null,
   "id": "138fde52",
   "metadata": {},
   "outputs": [],
   "source": [
    "unique_main_c = meta_df['main_cat'].dropna().unique().tolist()\n",
    "print(unique_main_c)"
   ]
  },
  {
   "cell_type": "code",
   "execution_count": 54,
   "id": "f8bc4e2e",
   "metadata": {},
   "outputs": [
    {
     "data": {
      "text/plain": [
       "53"
      ]
     },
     "execution_count": 54,
     "metadata": {},
     "output_type": "execute_result"
    }
   ],
   "source": [
    "len(unique_main_c)"
   ]
  },
  {
   "cell_type": "code",
   "execution_count": 55,
   "id": "bd53f71c",
   "metadata": {},
   "outputs": [],
   "source": [
    "# drop columns that has been normalized\n",
    "columns_to_drop = [\"imageURL\", \"imageURLHighRes\", \"also_buy\", \"also_view\", \"category\"]\n",
    "meta_df = meta_df.drop(columns=columns_to_drop)"
   ]
  },
  {
   "cell_type": "code",
   "execution_count": 56,
   "id": "ee0895ed",
   "metadata": {},
   "outputs": [],
   "source": [
    "# drop columns that contain meaningless content or more than 95 percentage of data is empty.\n",
    "meaningless_columns = [\"tech1\", \"tech2\", \"similar_item\", \"date\", \"fit\"]\n",
    "meta_df = meta_df.drop(columns=meaningless_columns)"
   ]
  },
  {
   "cell_type": "code",
   "execution_count": 57,
   "id": "eaced3fb",
   "metadata": {},
   "outputs": [
    {
     "data": {
      "text/plain": [
       "['Play challenging math games against Jabba the Hutt, Sebulba, Teemto and Ratts Tyerell.  Use strategy, computation, skill and logic to outsmart your opponents!  Practice and strengthen math skills in addition, subtraction, multiplication and equivalency.',\n",
       " 'Experience these games in two-player mode.',\n",
       " 'Explore 4 game arenas and 3 activity areas.',\n",
       " 'Ability to save games/credits for future playtime.',\n",
       " 'Tutorials available for each game.']"
      ]
     },
     "execution_count": 57,
     "metadata": {},
     "output_type": "execute_result"
    }
   ],
   "source": [
    "meta_df['feature'][13]"
   ]
  },
  {
   "cell_type": "code",
   "execution_count": 58,
   "id": "9692ce21",
   "metadata": {},
   "outputs": [
    {
     "data": {
      "text/plain": [
       "1993734"
      ]
     },
     "execution_count": 58,
     "metadata": {},
     "output_type": "execute_result"
    }
   ],
   "source": [
    "all_urls = [url for sublist in meta_df['feature'] for url in sublist]\n",
    "unique_urls = set(all_urls)\n",
    "len(unique_urls)"
   ]
  },
  {
   "cell_type": "code",
   "execution_count": 59,
   "id": "4cd873fc",
   "metadata": {},
   "outputs": [
    {
     "data": {
      "text/plain": [
       "4499889"
      ]
     },
     "execution_count": 59,
     "metadata": {},
     "output_type": "execute_result"
    }
   ],
   "source": [
    "len(all_urls)"
   ]
  },
  {
   "cell_type": "code",
   "execution_count": null,
   "id": "df9e97ec",
   "metadata": {},
   "outputs": [],
   "source": []
  },
  {
   "cell_type": "code",
   "execution_count": 60,
   "id": "02b29a9d",
   "metadata": {},
   "outputs": [],
   "source": [
    "# review_df.info()"
   ]
  },
  {
   "cell_type": "code",
   "execution_count": 61,
   "id": "b356e1c7",
   "metadata": {},
   "outputs": [],
   "source": [
    "# review_df.isnull().any()"
   ]
  },
  {
   "cell_type": "code",
   "execution_count": 62,
   "id": "2ae9427c",
   "metadata": {},
   "outputs": [],
   "source": [
    "# review_df['style'].isnull"
   ]
  },
  {
   "cell_type": "code",
   "execution_count": 63,
   "id": "9d22ec78",
   "metadata": {},
   "outputs": [],
   "source": [
    "# review_df.head()"
   ]
  },
  {
   "cell_type": "code",
   "execution_count": null,
   "id": "f8d70f44",
   "metadata": {},
   "outputs": [],
   "source": []
  },
  {
   "cell_type": "code",
   "execution_count": 64,
   "id": "4398b9b0",
   "metadata": {},
   "outputs": [],
   "source": [
    "# user_df.iloc[0]"
   ]
  },
  {
   "cell_type": "code",
   "execution_count": 65,
   "id": "c4050743",
   "metadata": {},
   "outputs": [],
   "source": [
    "# transaction_df.iloc[0]"
   ]
  },
  {
   "cell_type": "code",
   "execution_count": null,
   "id": "b2b118aa",
   "metadata": {},
   "outputs": [],
   "source": []
  },
  {
   "cell_type": "code",
   "execution_count": null,
   "id": "2f691352",
   "metadata": {},
   "outputs": [],
   "source": []
  },
  {
   "cell_type": "markdown",
   "id": "422615be",
   "metadata": {},
   "source": [
    "# Connect to mysql dataset"
   ]
  },
  {
   "cell_type": "code",
   "execution_count": 66,
   "id": "51fd8ef7",
   "metadata": {},
   "outputs": [],
   "source": [
    "# !pip install pymysql"
   ]
  },
  {
   "cell_type": "code",
   "execution_count": 27,
   "id": "c502c373",
   "metadata": {},
   "outputs": [],
   "source": [
    "# modify the configuration for your device connection\n",
    "import pymysql\n",
    "\n",
    "cnx = pymysql.connect(\n",
    "    user='root',\n",
    "    password='your_password',\n",
    "    host='127.0.0.1',\n",
    ")\n",
    "cursor = cnx.cursor()"
   ]
  },
  {
   "cell_type": "code",
   "execution_count": null,
   "id": "09696214",
   "metadata": {},
   "outputs": [],
   "source": [
    "schema_name = \"new_schema\"\n",
    "cursor.execute(f\"CREATE DATABASE {schema_name}\")"
   ]
  },
  {
   "cell_type": "code",
   "execution_count": 28,
   "id": "a9598123",
   "metadata": {},
   "outputs": [
    {
     "data": {
      "text/plain": [
       "0"
      ]
     },
     "execution_count": 28,
     "metadata": {},
     "output_type": "execute_result"
    }
   ],
   "source": [
    "cursor.execute(\"USE amazon_reviews\")"
   ]
  },
  {
   "cell_type": "code",
   "execution_count": 29,
   "id": "2bea56dc",
   "metadata": {},
   "outputs": [],
   "source": [
    "from sqlalchemy import create_engine"
   ]
  },
  {
   "cell_type": "code",
   "execution_count": 30,
   "id": "80428ef8",
   "metadata": {},
   "outputs": [],
   "source": [
    "user = 'root'\n",
    "password = 'your_password'\n",
    "host = '127.0.0.1'\n",
    "database = 'amazon_reviews'  \n",
    "engine = create_engine(f'mysql+pymysql://{user}:{password}@{host}/{database}')"
   ]
  },
  {
   "cell_type": "code",
   "execution_count": null,
   "id": "dc9633ea",
   "metadata": {},
   "outputs": [],
   "source": []
  },
  {
   "cell_type": "code",
   "execution_count": 72,
   "id": "b5c7d891",
   "metadata": {},
   "outputs": [
    {
     "name": "stdout",
     "output_type": "stream",
     "text": [
      "Maximum length for column 'CID' is: 6\n",
      "Maximum length for column 'Category' is: 1999\n"
     ]
    }
   ],
   "source": [
    "for column in Category.columns:\n",
    "    max_length = Category[column].astype(str).str.len().max()\n",
    "    print(f\"Maximum length for column '{column}' is: {max_length}\")"
   ]
  },
  {
   "cell_type": "code",
   "execution_count": null,
   "id": "fa4fbf5a",
   "metadata": {},
   "outputs": [],
   "source": [
    "cursor.execute(\"\"\"\n",
    "CREATE TABLE category (\n",
    "    CID INT PRIMARY KEY,\n",
    "    Category text\n",
    ")\n",
    "\"\"\")"
   ]
  },
  {
   "cell_type": "code",
   "execution_count": null,
   "id": "d103f61b",
   "metadata": {},
   "outputs": [],
   "source": [
    "Category.to_sql('category', con=engine, index=False, if_exists='append')"
   ]
  },
  {
   "cell_type": "code",
   "execution_count": null,
   "id": "28287bc5",
   "metadata": {},
   "outputs": [],
   "source": []
  },
  {
   "cell_type": "code",
   "execution_count": null,
   "id": "c5688396",
   "metadata": {},
   "outputs": [],
   "source": [
    "for column in meta_df.columns:\n",
    "    max_length = meta_df[column].astype(str).str.len().max()\n",
    "    print(f\"Maximum length for column '{column}' is: {max_length}\")"
   ]
  },
  {
   "cell_type": "code",
   "execution_count": null,
   "id": "52ab1d13",
   "metadata": {},
   "outputs": [],
   "source": [
    "meta_df['description'] = meta_df['description'].astype(str)"
   ]
  },
  {
   "cell_type": "code",
   "execution_count": null,
   "id": "8f56afd7",
   "metadata": {},
   "outputs": [],
   "source": [
    "meta_df['feature'] = meta_df['feature'].apply(','.join)"
   ]
  },
  {
   "cell_type": "code",
   "execution_count": null,
   "id": "a7eaf557",
   "metadata": {},
   "outputs": [],
   "source": [
    "meta_df['rank'] = meta_df['rank'].apply(''.join)"
   ]
  },
  {
   "cell_type": "code",
   "execution_count": null,
   "id": "6dbbc987",
   "metadata": {},
   "outputs": [],
   "source": [
    "meta_df['price'] = meta_df['price'].str.replace('$', '').astype(float)"
   ]
  },
  {
   "cell_type": "code",
   "execution_count": null,
   "id": "ef9afb30",
   "metadata": {},
   "outputs": [],
   "source": [
    "cursor.execute(\"\"\"\n",
    "CREATE TABLE meta (\n",
    "    asin VARCHAR(10) PRIMARY KEY,\n",
    "    title TEXT,\n",
    "    feature TEXT,\n",
    "    description TEXT,\n",
    "    price DECIMAL(8, 2) NOT NULL,\n",
    "    `rank` TEXT,\n",
    "    brand TEXT,\n",
    "    main_cat TINYTEXT\n",
    ")\n",
    "\"\"\")"
   ]
  },
  {
   "cell_type": "code",
   "execution_count": null,
   "id": "5767c45c",
   "metadata": {},
   "outputs": [],
   "source": [
    "long_descriptions = meta_df[meta_df['description'].str.len() > 65535]\n",
    "print(\"Number of descriptions longer than 65,535 characters:\", len(long_descriptions))"
   ]
  },
  {
   "cell_type": "code",
   "execution_count": null,
   "id": "6956215b",
   "metadata": {},
   "outputs": [],
   "source": [
    "# Truncating the Long Descriptions\n",
    "meta_df['description'] = meta_df['description'].apply(lambda x: x[:65535] if len(x) > 65535 else x)"
   ]
  },
  {
   "cell_type": "code",
   "execution_count": null,
   "id": "31fbaf6c",
   "metadata": {},
   "outputs": [],
   "source": [
    "# replace empty set as none\n",
    "meta_df['description'] = meta_df['description'].apply(lambda x: '' if x == [] else x)"
   ]
  },
  {
   "cell_type": "code",
   "execution_count": null,
   "id": "184760f0",
   "metadata": {},
   "outputs": [],
   "source": [
    "import html\n",
    "meta_df['rank'] = meta_df['rank'].apply(html.unescape)\n",
    "meta_df['rank'] = meta_df['rank'].str.replace('>#', '')\n",
    "meta_df['rank'] = meta_df['rank'].str.replace('>;', '>')\n",
    "meta_df['main_cat'] = meta_df['main_cat'].apply(html.unescape)"
   ]
  },
  {
   "cell_type": "code",
   "execution_count": null,
   "id": "297037f8",
   "metadata": {},
   "outputs": [],
   "source": [
    "meta_df.to_sql('meta', con=engine, index=False, if_exists='append')"
   ]
  },
  {
   "cell_type": "code",
   "execution_count": null,
   "id": "1684758d",
   "metadata": {},
   "outputs": [],
   "source": []
  },
  {
   "cell_type": "code",
   "execution_count": null,
   "id": "abd4f845",
   "metadata": {},
   "outputs": [],
   "source": []
  },
  {
   "cell_type": "code",
   "execution_count": null,
   "id": "7fba31bb",
   "metadata": {},
   "outputs": [],
   "source": []
  },
  {
   "cell_type": "code",
   "execution_count": null,
   "id": "aa4e9fa9",
   "metadata": {},
   "outputs": [],
   "source": [
    "image_url_df = image_url_df.rename(columns={\"image_url_id\": \"IID\"})\n",
    "image_url_df"
   ]
  },
  {
   "cell_type": "code",
   "execution_count": null,
   "id": "54e477b7",
   "metadata": {},
   "outputs": [],
   "source": [
    "image_url_df.info()"
   ]
  },
  {
   "cell_type": "code",
   "execution_count": null,
   "id": "e1ff5119",
   "metadata": {},
   "outputs": [],
   "source": [
    "for column in image_url_df.columns:\n",
    "    max_length = image_url_df[column].astype(str).str.len().max()\n",
    "    print(f\"Maximum length for column '{column}' is: {max_length}\")"
   ]
  },
  {
   "cell_type": "code",
   "execution_count": null,
   "id": "6e279230",
   "metadata": {},
   "outputs": [],
   "source": [
    "cursor.execute(\"\"\"\n",
    "CREATE TABLE image_url (\n",
    "    IID INT PRIMARY KEY,\n",
    "    imageURL TINYTEXT,\n",
    "    imageURLHighRes TINYTEXT\n",
    ")\n",
    "\"\"\")"
   ]
  },
  {
   "cell_type": "code",
   "execution_count": null,
   "id": "e3e5e7eb",
   "metadata": {},
   "outputs": [],
   "source": [
    "image_url_df.to_sql('image_url', con=engine, index=False, if_exists='append')"
   ]
  },
  {
   "cell_type": "code",
   "execution_count": null,
   "id": "4762f739",
   "metadata": {},
   "outputs": [],
   "source": [
    "image_url_df"
   ]
  },
  {
   "cell_type": "code",
   "execution_count": null,
   "id": "de736c18",
   "metadata": {},
   "outputs": [],
   "source": []
  },
  {
   "cell_type": "code",
   "execution_count": null,
   "id": "dcce9ff9",
   "metadata": {},
   "outputs": [],
   "source": [
    "meta_image.info()"
   ]
  },
  {
   "cell_type": "code",
   "execution_count": null,
   "id": "d4699c88",
   "metadata": {},
   "outputs": [],
   "source": [
    "meta_image = meta_image.rename(columns={\"image_url_id\": \"IID\"})\n",
    "meta_image"
   ]
  },
  {
   "cell_type": "code",
   "execution_count": null,
   "id": "21325ed5",
   "metadata": {},
   "outputs": [],
   "source": [
    "# drop duplicate row\n",
    "meta_image = meta_image.drop_duplicates(subset=['asin', 'IID'])"
   ]
  },
  {
   "cell_type": "code",
   "execution_count": null,
   "id": "2aaaf9f9",
   "metadata": {},
   "outputs": [],
   "source": [
    "meta_image"
   ]
  },
  {
   "cell_type": "code",
   "execution_count": null,
   "id": "1b3ade96",
   "metadata": {},
   "outputs": [],
   "source": [
    "for column in meta_image.columns:\n",
    "    max_length = meta_image[column].astype(str).str.len().max()\n",
    "    print(f\"Maximum length for column '{column}' is: {max_length}\")"
   ]
  },
  {
   "cell_type": "code",
   "execution_count": null,
   "id": "8e693348",
   "metadata": {},
   "outputs": [],
   "source": [
    "cursor.execute(\"\"\"\n",
    "CREATE TABLE meta_image (\n",
    "    asin VARCHAR(10),\n",
    "    IID INT,\n",
    "    PRIMARY KEY (asin, IID)\n",
    ")\n",
    "\"\"\")"
   ]
  },
  {
   "cell_type": "code",
   "execution_count": null,
   "id": "30201b13",
   "metadata": {},
   "outputs": [],
   "source": [
    "meta_image.to_sql('meta_image', con=engine, index=False, if_exists='append')"
   ]
  },
  {
   "cell_type": "code",
   "execution_count": null,
   "id": "5f75d9b2",
   "metadata": {},
   "outputs": [],
   "source": []
  },
  {
   "cell_type": "code",
   "execution_count": null,
   "id": "8d416fb9",
   "metadata": {},
   "outputs": [],
   "source": [
    "also_buy.info()"
   ]
  },
  {
   "cell_type": "code",
   "execution_count": null,
   "id": "fc043396",
   "metadata": {},
   "outputs": [],
   "source": [
    "for column in also_buy.columns:\n",
    "    max_length = also_buy[column].astype(str).str.len().max()\n",
    "    print(f\"Maximum length for column '{column}' is: {max_length}\")"
   ]
  },
  {
   "cell_type": "code",
   "execution_count": null,
   "id": "70e1fe1b",
   "metadata": {},
   "outputs": [],
   "source": [
    "cursor.execute(\"\"\"\n",
    "CREATE TABLE also_buy (\n",
    "    asin VARCHAR(10),\n",
    "    also_buy VARCHAR(10),\n",
    "    PRIMARY KEY (asin, also_buy)\n",
    ")\n",
    "\"\"\")"
   ]
  },
  {
   "cell_type": "code",
   "execution_count": null,
   "id": "d5f55581",
   "metadata": {},
   "outputs": [],
   "source": [
    "also_buy.to_sql('also_buy', con=engine, index=False, if_exists='append')"
   ]
  },
  {
   "cell_type": "code",
   "execution_count": null,
   "id": "48a96d5b",
   "metadata": {},
   "outputs": [],
   "source": []
  },
  {
   "cell_type": "code",
   "execution_count": null,
   "id": "5ee94982",
   "metadata": {},
   "outputs": [],
   "source": [
    "also_view.info()"
   ]
  },
  {
   "cell_type": "code",
   "execution_count": null,
   "id": "34e60cf5",
   "metadata": {},
   "outputs": [],
   "source": [
    "for column in also_view.columns:\n",
    "    max_length = also_view[column].astype(str).str.len().max()\n",
    "    print(f\"Maximum length for column '{column}' is: {max_length}\")"
   ]
  },
  {
   "cell_type": "code",
   "execution_count": null,
   "id": "f819aa24",
   "metadata": {},
   "outputs": [],
   "source": [
    "cursor.execute(\"\"\"\n",
    "CREATE TABLE also_view (\n",
    "    asin VARCHAR(10),\n",
    "    also_view VARCHAR(10),\n",
    "    PRIMARY KEY (asin, also_view)\n",
    ")\n",
    "\"\"\")"
   ]
  },
  {
   "cell_type": "code",
   "execution_count": 73,
   "id": "0c3cd0cf",
   "metadata": {},
   "outputs": [],
   "source": [
    "also_view.to_sql('also_view', con=engine, index=False, if_exists='append')"
   ]
  },
  {
   "cell_type": "code",
   "execution_count": null,
   "id": "d23cf046",
   "metadata": {},
   "outputs": [],
   "source": []
  },
  {
   "cell_type": "code",
   "execution_count": 74,
   "id": "02a8f33c",
   "metadata": {},
   "outputs": [
    {
     "name": "stdout",
     "output_type": "stream",
     "text": [
      "<class 'pandas.core.frame.DataFrame'>\n",
      "RangeIndex: 5756168 entries, 0 to 5756167\n",
      "Data columns (total 2 columns):\n",
      " #   Column  Dtype \n",
      "---  ------  ----- \n",
      " 0   asin    object\n",
      " 1   CID     int64 \n",
      "dtypes: int64(1), object(1)\n",
      "memory usage: 87.8+ MB\n"
     ]
    }
   ],
   "source": [
    "meta_category.info()"
   ]
  },
  {
   "cell_type": "code",
   "execution_count": 75,
   "id": "29796058",
   "metadata": {},
   "outputs": [
    {
     "name": "stdout",
     "output_type": "stream",
     "text": [
      "Maximum length for column 'asin' is: 10\n",
      "Maximum length for column 'CID' is: 6\n"
     ]
    }
   ],
   "source": [
    "for column in meta_category.columns:\n",
    "    max_length = meta_category[column].astype(str).str.len().max()\n",
    "    print(f\"Maximum length for column '{column}' is: {max_length}\")"
   ]
  },
  {
   "cell_type": "code",
   "execution_count": 76,
   "id": "e836a9b3",
   "metadata": {},
   "outputs": [
    {
     "data": {
      "text/plain": [
       "0"
      ]
     },
     "execution_count": 76,
     "metadata": {},
     "output_type": "execute_result"
    }
   ],
   "source": [
    "cursor.execute(\"\"\"\n",
    "CREATE TABLE meta_category (\n",
    "    asin VARCHAR(10),\n",
    "    CID INT,\n",
    "    PRIMARY KEY (asin, CID)\n",
    ")\n",
    "\"\"\")"
   ]
  },
  {
   "cell_type": "code",
   "execution_count": 79,
   "id": "0f530ab8",
   "metadata": {},
   "outputs": [],
   "source": [
    "# drop duplicate row\n",
    "meta_category = meta_category.drop_duplicates(subset=['asin', 'CID'])"
   ]
  },
  {
   "cell_type": "code",
   "execution_count": 81,
   "id": "96bb817b",
   "metadata": {},
   "outputs": [],
   "source": [
    "meta_category.to_sql('meta_category', con=engine, index=False, if_exists='append')"
   ]
  },
  {
   "cell_type": "code",
   "execution_count": 82,
   "id": "2c702dcb",
   "metadata": {},
   "outputs": [
    {
     "data": {
      "text/html": [
       "<div>\n",
       "<style scoped>\n",
       "    .dataframe tbody tr th:only-of-type {\n",
       "        vertical-align: middle;\n",
       "    }\n",
       "\n",
       "    .dataframe tbody tr th {\n",
       "        vertical-align: top;\n",
       "    }\n",
       "\n",
       "    .dataframe thead th {\n",
       "        text-align: right;\n",
       "    }\n",
       "</style>\n",
       "<table border=\"1\" class=\"dataframe\">\n",
       "  <thead>\n",
       "    <tr style=\"text-align: right;\">\n",
       "      <th></th>\n",
       "      <th>asin</th>\n",
       "      <th>CID</th>\n",
       "    </tr>\n",
       "  </thead>\n",
       "  <tbody>\n",
       "    <tr>\n",
       "      <th>0</th>\n",
       "      <td>0042000742</td>\n",
       "      <td>1</td>\n",
       "    </tr>\n",
       "    <tr>\n",
       "      <th>1</th>\n",
       "      <td>0042000742</td>\n",
       "      <td>2</td>\n",
       "    </tr>\n",
       "    <tr>\n",
       "      <th>2</th>\n",
       "      <td>0042000742</td>\n",
       "      <td>3</td>\n",
       "    </tr>\n",
       "    <tr>\n",
       "      <th>3</th>\n",
       "      <td>0078764343</td>\n",
       "      <td>1</td>\n",
       "    </tr>\n",
       "    <tr>\n",
       "      <th>4</th>\n",
       "      <td>0078764343</td>\n",
       "      <td>4</td>\n",
       "    </tr>\n",
       "    <tr>\n",
       "      <th>...</th>\n",
       "      <td>...</td>\n",
       "      <td>...</td>\n",
       "    </tr>\n",
       "    <tr>\n",
       "      <th>5756163</th>\n",
       "      <td>B01HJCCLOY</td>\n",
       "      <td>167788</td>\n",
       "    </tr>\n",
       "    <tr>\n",
       "      <th>5756164</th>\n",
       "      <td>B01HJCCLOY</td>\n",
       "      <td>167815</td>\n",
       "    </tr>\n",
       "    <tr>\n",
       "      <th>5756165</th>\n",
       "      <td>B01HJF79XO</td>\n",
       "      <td>167786</td>\n",
       "    </tr>\n",
       "    <tr>\n",
       "      <th>5756166</th>\n",
       "      <td>B01HJF79XO</td>\n",
       "      <td>167823</td>\n",
       "    </tr>\n",
       "    <tr>\n",
       "      <th>5756167</th>\n",
       "      <td>B01HJF79XO</td>\n",
       "      <td>167787</td>\n",
       "    </tr>\n",
       "  </tbody>\n",
       "</table>\n",
       "<p>5750852 rows × 2 columns</p>\n",
       "</div>"
      ],
      "text/plain": [
       "               asin     CID\n",
       "0        0042000742       1\n",
       "1        0042000742       2\n",
       "2        0042000742       3\n",
       "3        0078764343       1\n",
       "4        0078764343       4\n",
       "...             ...     ...\n",
       "5756163  B01HJCCLOY  167788\n",
       "5756164  B01HJCCLOY  167815\n",
       "5756165  B01HJF79XO  167786\n",
       "5756166  B01HJF79XO  167823\n",
       "5756167  B01HJF79XO  167787\n",
       "\n",
       "[5750852 rows x 2 columns]"
      ]
     },
     "execution_count": 82,
     "metadata": {},
     "output_type": "execute_result"
    }
   ],
   "source": [
    "meta_category"
   ]
  },
  {
   "cell_type": "code",
   "execution_count": null,
   "id": "bf39a7e1",
   "metadata": {},
   "outputs": [],
   "source": []
  },
  {
   "cell_type": "code",
   "execution_count": null,
   "id": "e521460b",
   "metadata": {},
   "outputs": [],
   "source": []
  },
  {
   "cell_type": "code",
   "execution_count": 3,
   "id": "34209a50",
   "metadata": {},
   "outputs": [
    {
     "name": "stdout",
     "output_type": "stream",
     "text": [
      "<class 'pandas.core.frame.DataFrame'>\n",
      "RangeIndex: 6460965 entries, 0 to 6460964\n",
      "Data columns (total 11 columns):\n",
      " #   Column          Dtype  \n",
      "---  ------          -----  \n",
      " 0   overall         float64\n",
      " 1   vote            float64\n",
      " 2   verified        bool   \n",
      " 3   reviewTime      object \n",
      " 4   unixReviewTime  int64  \n",
      " 5   reviewerID      object \n",
      " 6   reviewerName    object \n",
      " 7   asin            object \n",
      " 8   style           object \n",
      " 9   reviewText      object \n",
      " 10  summary         object \n",
      "dtypes: bool(1), float64(2), int64(1), object(7)\n",
      "memory usage: 499.1+ MB\n"
     ]
    }
   ],
   "source": [
    "review_df.info()"
   ]
  },
  {
   "cell_type": "code",
   "execution_count": 13,
   "id": "42102727",
   "metadata": {},
   "outputs": [
    {
     "name": "stdout",
     "output_type": "stream",
     "text": [
      "                  reviewerID              reviewerName\n",
      "0       A0001528BGUBOEVR6T5U                  igozingo\n",
      "1       A0009988MRFQ3TROTQPI                 Bob Macky\n",
      "2       A0024836TBQJ1WBE4VDY          John W. Franklin\n",
      "3       A0029274J35Q1MYNKUWO                        JM\n",
      "4       A00311542N70JGNHUZPI  Eliana Joy Solon Presley\n",
      "...                      ...                       ...\n",
      "641080         AZZZJJPHNUQ1T            WisdomWolf7779\n",
      "641081         AZZZMSZI9LKE6                      gail\n",
      "641082         AZZZOVIBXHGDR           Logan R. Freijo\n",
      "641083         AZZZPDCSVJ9X2                    Lee W.\n",
      "641084         AZZZVAXZQB7JJ            HSIAO SHIH JEN\n",
      "\n",
      "[641085 rows x 2 columns]\n"
     ]
    }
   ],
   "source": [
    "# In case of multiple 'reviewName' entries for a single 'reviewerID', pick the first one.\n",
    "ID_name_df = review_df.groupby('reviewerID').agg({'reviewerName': 'first'}).reset_index()\n",
    "ID_name_df.columns = ['reviewerID', 'reviewerName']\n",
    "ID_name = ID_name_df.copy()\n",
    "\n",
    "print(ID_name)"
   ]
  },
  {
   "cell_type": "code",
   "execution_count": 16,
   "id": "6bcaf1e4",
   "metadata": {},
   "outputs": [
    {
     "data": {
      "text/html": [
       "<div>\n",
       "<style scoped>\n",
       "    .dataframe tbody tr th:only-of-type {\n",
       "        vertical-align: middle;\n",
       "    }\n",
       "\n",
       "    .dataframe tbody tr th {\n",
       "        vertical-align: top;\n",
       "    }\n",
       "\n",
       "    .dataframe thead th {\n",
       "        text-align: right;\n",
       "    }\n",
       "</style>\n",
       "<table border=\"1\" class=\"dataframe\">\n",
       "  <thead>\n",
       "    <tr style=\"text-align: right;\">\n",
       "      <th></th>\n",
       "      <th>reviewerID</th>\n",
       "      <th>reviewerName</th>\n",
       "    </tr>\n",
       "  </thead>\n",
       "  <tbody>\n",
       "    <tr>\n",
       "      <th>0</th>\n",
       "      <td>A0001528BGUBOEVR6T5U</td>\n",
       "      <td>igozingo</td>\n",
       "    </tr>\n",
       "    <tr>\n",
       "      <th>1</th>\n",
       "      <td>A0009988MRFQ3TROTQPI</td>\n",
       "      <td>Bob Macky</td>\n",
       "    </tr>\n",
       "    <tr>\n",
       "      <th>2</th>\n",
       "      <td>A0024836TBQJ1WBE4VDY</td>\n",
       "      <td>John W. Franklin</td>\n",
       "    </tr>\n",
       "    <tr>\n",
       "      <th>3</th>\n",
       "      <td>A0029274J35Q1MYNKUWO</td>\n",
       "      <td>JM</td>\n",
       "    </tr>\n",
       "    <tr>\n",
       "      <th>4</th>\n",
       "      <td>A00311542N70JGNHUZPI</td>\n",
       "      <td>Eliana Joy Solon Presley</td>\n",
       "    </tr>\n",
       "    <tr>\n",
       "      <th>...</th>\n",
       "      <td>...</td>\n",
       "      <td>...</td>\n",
       "    </tr>\n",
       "    <tr>\n",
       "      <th>641080</th>\n",
       "      <td>AZZZJJPHNUQ1T</td>\n",
       "      <td>WisdomWolf7779</td>\n",
       "    </tr>\n",
       "    <tr>\n",
       "      <th>641081</th>\n",
       "      <td>AZZZMSZI9LKE6</td>\n",
       "      <td>gail</td>\n",
       "    </tr>\n",
       "    <tr>\n",
       "      <th>641082</th>\n",
       "      <td>AZZZOVIBXHGDR</td>\n",
       "      <td>Logan R. Freijo</td>\n",
       "    </tr>\n",
       "    <tr>\n",
       "      <th>641083</th>\n",
       "      <td>AZZZPDCSVJ9X2</td>\n",
       "      <td>Lee W.</td>\n",
       "    </tr>\n",
       "    <tr>\n",
       "      <th>641084</th>\n",
       "      <td>AZZZVAXZQB7JJ</td>\n",
       "      <td>HSIAO SHIH JEN</td>\n",
       "    </tr>\n",
       "  </tbody>\n",
       "</table>\n",
       "<p>641085 rows × 2 columns</p>\n",
       "</div>"
      ],
      "text/plain": [
       "                  reviewerID              reviewerName\n",
       "0       A0001528BGUBOEVR6T5U                  igozingo\n",
       "1       A0009988MRFQ3TROTQPI                 Bob Macky\n",
       "2       A0024836TBQJ1WBE4VDY          John W. Franklin\n",
       "3       A0029274J35Q1MYNKUWO                        JM\n",
       "4       A00311542N70JGNHUZPI  Eliana Joy Solon Presley\n",
       "...                      ...                       ...\n",
       "641080         AZZZJJPHNUQ1T            WisdomWolf7779\n",
       "641081         AZZZMSZI9LKE6                      gail\n",
       "641082         AZZZOVIBXHGDR           Logan R. Freijo\n",
       "641083         AZZZPDCSVJ9X2                    Lee W.\n",
       "641084         AZZZVAXZQB7JJ            HSIAO SHIH JEN\n",
       "\n",
       "[641085 rows x 2 columns]"
      ]
     },
     "execution_count": 16,
     "metadata": {},
     "output_type": "execute_result"
    }
   ],
   "source": [
    "ID_name"
   ]
  },
  {
   "cell_type": "code",
   "execution_count": 17,
   "id": "1b095eb4",
   "metadata": {},
   "outputs": [
    {
     "name": "stdout",
     "output_type": "stream",
     "text": [
      "Maximum length for column 'reviewerID' is: 20\n",
      "Maximum length for column 'reviewerName' is: 40\n"
     ]
    }
   ],
   "source": [
    "for column in ID_name.columns:\n",
    "    max_length = ID_name[column].astype(str).str.len().max()\n",
    "    print(f\"Maximum length for column '{column}' is: {max_length}\")"
   ]
  },
  {
   "cell_type": "code",
   "execution_count": 24,
   "id": "f1ae07b2",
   "metadata": {},
   "outputs": [
    {
     "data": {
      "text/plain": [
       "0"
      ]
     },
     "execution_count": 24,
     "metadata": {},
     "output_type": "execute_result"
    }
   ],
   "source": [
    "cursor.execute(\"\"\"\n",
    "CREATE TABLE id_name (\n",
    "    reviewerID VARCHAR(20) PRIMARY KEY,\n",
    "    reviewerName VARCHAR(40)\n",
    ")\n",
    "\"\"\")"
   ]
  },
  {
   "cell_type": "code",
   "execution_count": 25,
   "id": "2f6c8788",
   "metadata": {},
   "outputs": [],
   "source": [
    "ID_name.to_sql('id_name', con=engine, index=False, if_exists='append')"
   ]
  },
  {
   "cell_type": "code",
   "execution_count": 27,
   "id": "9ce29906",
   "metadata": {},
   "outputs": [],
   "source": [
    "review_df = review_df.drop(columns=['reviewerName'])"
   ]
  },
  {
   "cell_type": "code",
   "execution_count": 30,
   "id": "51d7306e",
   "metadata": {},
   "outputs": [
    {
     "name": "stdout",
     "output_type": "stream",
     "text": [
      "<class 'pandas.core.frame.DataFrame'>\n",
      "RangeIndex: 6460965 entries, 0 to 6460964\n",
      "Data columns (total 10 columns):\n",
      " #   Column          Dtype  \n",
      "---  ------          -----  \n",
      " 0   overall         float64\n",
      " 1   vote            float64\n",
      " 2   verified        bool   \n",
      " 3   reviewTime      object \n",
      " 4   unixReviewTime  int64  \n",
      " 5   reviewerID      object \n",
      " 6   asin            object \n",
      " 7   style           object \n",
      " 8   reviewText      object \n",
      " 9   summary         object \n",
      "dtypes: bool(1), float64(2), int64(1), object(6)\n",
      "memory usage: 449.8+ MB\n"
     ]
    }
   ],
   "source": [
    "review_df.info()"
   ]
  },
  {
   "cell_type": "code",
   "execution_count": 89,
   "id": "87b650a5",
   "metadata": {},
   "outputs": [
    {
     "name": "stdout",
     "output_type": "stream",
     "text": [
      "Duplicate rows based on 'reviewerID' and 'asin' combination:\n",
      "         overall  vote  verified  reviewTime  unixReviewTime      reviewerID  \\\n",
      "968          5.0   1.0     False  2007-05-03      1178150400  A1CDNTB7377YH2   \n",
      "969          5.0   1.0     False  2007-05-03      1178150400  A1CDNTB7377YH2   \n",
      "2407         5.0   3.0     False  2012-01-04      1325635200   AROWZGGO4VTJU   \n",
      "2408         1.0   1.0     False  2012-01-04      1325635200   AROWZGGO4VTJU   \n",
      "2409         1.0   1.0     False  2012-01-04      1325635200   AROWZGGO4VTJU   \n",
      "...          ...   ...       ...         ...             ...             ...   \n",
      "6460767      4.0   1.0     False  2017-05-24      1495584000   AV6QDP8Q0ONK4   \n",
      "6460771      4.0   1.0     False  2016-07-25      1469404800   AV6QDP8Q0ONK4   \n",
      "6460780      3.0   1.0      True  2018-01-13      1515801600  A2TA5Q3W87GP78   \n",
      "6460908      5.0   1.0     False  2017-01-25      1485302400  A1EIIGQBKKVDT0   \n",
      "6460909      5.0   3.0     False  2017-01-25      1485302400  A1EIIGQBKKVDT0   \n",
      "\n",
      "               asin         style  \\\n",
      "968      B00000DMAQ                 \n",
      "969      B00000DMAQ                 \n",
      "2407     B00000INR2                 \n",
      "2408     B00000INR2                 \n",
      "2409     B00000INR2                 \n",
      "...             ...           ...   \n",
      "6460767  B01HD2UCA0   Prime Video   \n",
      "6460771  B01HD2UCA0           DVD   \n",
      "6460780  B01HDHA9JO   Prime Video   \n",
      "6460908  B01HGRJUGE           DVD   \n",
      "6460909  B01HGRJUGE       Blu-ray   \n",
      "\n",
      "                                                reviewText  \\\n",
      "968      I really love this game that is quite similar ...   \n",
      "969      I really love this game that is quite similar ...   \n",
      "2407     I have used third party products for everythin...   \n",
      "2408     I have used many third party expansion packs a...   \n",
      "2409     I have used a lot of third party expansion pac...   \n",
      "...                                                    ...   \n",
      "6460767  If you read anything at all about the film, it...   \n",
      "6460771  If you read anything at all about the film, it...   \n",
      "6460780  this movie was like a afterschool special. No ...   \n",
      "6460908  PLOT...\\nThe ReZort is a safari park that offe...   \n",
      "6460909  PLOT...\\nThe ReZort is a safari park that offe...   \n",
      "\n",
      "                                       summary  \n",
      "968                         What a great game!  \n",
      "969                         A Whole Lot of Fun  \n",
      "2407           Stick With First Party Hardware  \n",
      "2408      Beware Of Third Party Expansion Paks  \n",
      "2409     Buy Only Nintendo Brand Expansion Pak  \n",
      "...                                        ...  \n",
      "6460767            THE BEST ONES GO OFF SCRIPT  \n",
      "6460771            THE BEST ONES GO OFF SCRIPT  \n",
      "6460780                            Three Stars  \n",
      "6460908                \"..COOL ZOMBIE MOVIE..\"  \n",
      "6460909               \"..GREAT ZOMBIE MOVIE..\"  \n",
      "\n",
      "[54775 rows x 10 columns]\n"
     ]
    }
   ],
   "source": [
    "duplicates = review_df[review_df.duplicated(subset=['reviewerID', 'asin'], keep=False)]\n",
    "\n",
    "if not duplicates.empty:\n",
    "    print(\"Duplicate rows based on 'reviewerID' and 'asin' combination:\")\n",
    "    print(duplicates)\n",
    "else:\n",
    "    print(\"No duplicate rows found based on 'reviewerID' and 'asin' combination.\")"
   ]
  },
  {
   "cell_type": "code",
   "execution_count": 90,
   "id": "7c8c0e95",
   "metadata": {},
   "outputs": [
    {
     "data": {
      "text/plain": [
       "overall                                                         5.0\n",
       "vote                                                            1.0\n",
       "verified                                                      False\n",
       "reviewTime                                               2007-05-03\n",
       "unixReviewTime                                           1178150400\n",
       "reviewerID                                           A1CDNTB7377YH2\n",
       "asin                                                     B00000DMAQ\n",
       "style                                                              \n",
       "reviewText        I really love this game that is quite similar ...\n",
       "summary                                          What a great game!\n",
       "Name: 968, dtype: object"
      ]
     },
     "execution_count": 90,
     "metadata": {},
     "output_type": "execute_result"
    }
   ],
   "source": [
    "review_df.iloc[968]"
   ]
  },
  {
   "cell_type": "code",
   "execution_count": 91,
   "id": "a568ad6f",
   "metadata": {},
   "outputs": [
    {
     "data": {
      "text/plain": [
       "overall                                                         5.0\n",
       "vote                                                            1.0\n",
       "verified                                                      False\n",
       "reviewTime                                               2007-05-03\n",
       "unixReviewTime                                           1178150400\n",
       "reviewerID                                           A1CDNTB7377YH2\n",
       "asin                                                     B00000DMAQ\n",
       "style                                                              \n",
       "reviewText        I really love this game that is quite similar ...\n",
       "summary                                          A Whole Lot of Fun\n",
       "Name: 969, dtype: object"
      ]
     },
     "execution_count": 91,
     "metadata": {},
     "output_type": "execute_result"
    }
   ],
   "source": [
    "review_df.iloc[969]"
   ]
  },
  {
   "cell_type": "code",
   "execution_count": 86,
   "id": "1bfeeeff",
   "metadata": {},
   "outputs": [
    {
     "data": {
      "text/plain": [
       "overall                                                         4.0\n",
       "vote                                                            1.0\n",
       "verified                                                      False\n",
       "reviewTime                                               2014-03-03\n",
       "unixReviewTime                                           1393804800\n",
       "reviewerID                                           A2R164STV36F6C\n",
       "asin                                                     B00002DHEV\n",
       "style                                                              \n",
       "reviewText        After years of coveting my friends Super Ninte...\n",
       "summary                   Nintendo Explores New Territory in 64-bit\n",
       "Name: 6847, dtype: object"
      ]
     },
     "execution_count": 86,
     "metadata": {},
     "output_type": "execute_result"
    }
   ],
   "source": [
    "review_df.iloc[6847]"
   ]
  },
  {
   "cell_type": "code",
   "execution_count": 88,
   "id": "3a85c8b8",
   "metadata": {},
   "outputs": [
    {
     "data": {
      "text/plain": [
       "overall                                                         4.0\n",
       "vote                                                            2.0\n",
       "verified                                                      False\n",
       "reviewTime                                               2014-03-03\n",
       "unixReviewTime                                           1393804800\n",
       "reviewerID                                           A2R164STV36F6C\n",
       "asin                                                     B00002DHEV\n",
       "style                                                              \n",
       "reviewText        After years of coveting my friends Super Ninte...\n",
       "summary                   Nintendo Explores New Territory in 64-bit\n",
       "Name: 6848, dtype: object"
      ]
     },
     "execution_count": 88,
     "metadata": {},
     "output_type": "execute_result"
    }
   ],
   "source": [
    "review_df.iloc[6848]"
   ]
  },
  {
   "cell_type": "code",
   "execution_count": null,
   "id": "ddc4e55e",
   "metadata": {},
   "outputs": [],
   "source": [
    "# Since there is no reasonable primary combination that can identify each case, we add a new variable call \"RID\", set as primary key of table."
   ]
  },
  {
   "cell_type": "code",
   "execution_count": 95,
   "id": "c1ce898e",
   "metadata": {},
   "outputs": [],
   "source": [
    "review_df['RID'] = range(1, len(review_df) + 1)"
   ]
  },
  {
   "cell_type": "code",
   "execution_count": 33,
   "id": "172ad258",
   "metadata": {},
   "outputs": [
    {
     "name": "stdout",
     "output_type": "stream",
     "text": [
      "Maximum length for column 'overall' is: 3\n",
      "Maximum length for column 'vote' is: 5\n",
      "Maximum length for column 'verified' is: 5\n",
      "Maximum length for column 'reviewTime' is: 11\n",
      "Maximum length for column 'unixReviewTime' is: 10\n",
      "Maximum length for column 'reviewerID' is: 20\n",
      "Maximum length for column 'asin' is: 10\n",
      "Maximum length for column 'style' is: 225\n",
      "Maximum length for column 'reviewText' is: 33759\n",
      "Maximum length for column 'summary' is: 315\n"
     ]
    }
   ],
   "source": [
    "for column in review_df.columns:\n",
    "    max_length = review_df[column].astype(str).str.len().max()\n",
    "    print(f\"Maximum length for column '{column}' is: {max_length}\")"
   ]
  },
  {
   "cell_type": "code",
   "execution_count": 58,
   "id": "1c8df0ca",
   "metadata": {},
   "outputs": [
    {
     "data": {
      "text/plain": [
       "0                             None\n",
       "1                             None\n",
       "2                             None\n",
       "3                             None\n",
       "4                             None\n",
       "                    ...           \n",
       "6460960        {'Format:': ' DVD'}\n",
       "6460961    {'Format:': ' Blu-ray'}\n",
       "6460962    {'Format:': ' Blu-ray'}\n",
       "6460963    {'Format:': ' Blu-ray'}\n",
       "6460964    {'Format:': ' Blu-ray'}\n",
       "Name: style, Length: 6460965, dtype: object"
      ]
     },
     "execution_count": 58,
     "metadata": {},
     "output_type": "execute_result"
    }
   ],
   "source": [
    "review_df['style']"
   ]
  },
  {
   "cell_type": "code",
   "execution_count": 69,
   "id": "4d4b8dfc",
   "metadata": {},
   "outputs": [],
   "source": [
    "def convert_format(val):\n",
    "    if val is None:\n",
    "        return ''\n",
    "    elif isinstance(val, dict) and 'Format:' in val:\n",
    "        return val['Format:']\n",
    "    else:\n",
    "        return str(val)\n",
    "\n",
    "review_df['style'] = review_df['style'].apply(convert_format)"
   ]
  },
  {
   "cell_type": "code",
   "execution_count": 70,
   "id": "025e3829",
   "metadata": {},
   "outputs": [
    {
     "data": {
      "text/plain": [
       "0                  \n",
       "1                  \n",
       "2                  \n",
       "3                  \n",
       "4                  \n",
       "             ...   \n",
       "6460960         DVD\n",
       "6460961     Blu-ray\n",
       "6460962     Blu-ray\n",
       "6460963     Blu-ray\n",
       "6460964     Blu-ray\n",
       "Name: style, Length: 6460965, dtype: object"
      ]
     },
     "execution_count": 70,
     "metadata": {},
     "output_type": "execute_result"
    }
   ],
   "source": [
    "review_df['style']"
   ]
  },
  {
   "cell_type": "code",
   "execution_count": 71,
   "id": "aa01f725",
   "metadata": {},
   "outputs": [
    {
     "name": "stdout",
     "output_type": "stream",
     "text": [
      "Maximum length for column style is: 225\n"
     ]
    }
   ],
   "source": [
    "max_length = review_df['style'].astype(str).str.len().max()\n",
    "print(f\"Maximum length for column style is: {max_length}\")"
   ]
  },
  {
   "cell_type": "code",
   "execution_count": 52,
   "id": "c6de3dac",
   "metadata": {},
   "outputs": [],
   "source": [
    "# Convert 'reviewTime' to format YYYY-MM-DD\n",
    "review_df['reviewTime'] = pd.to_datetime(review_df['reviewTime'], format='%m %d, %Y').dt.strftime('%Y-%m-%d')"
   ]
  },
  {
   "cell_type": "code",
   "execution_count": 101,
   "id": "7f8293d9",
   "metadata": {},
   "outputs": [
    {
     "data": {
      "text/plain": [
       "0"
      ]
     },
     "execution_count": 101,
     "metadata": {},
     "output_type": "execute_result"
    }
   ],
   "source": [
    "cursor.execute(\"\"\"\n",
    "CREATE TABLE review (\n",
    "    RID INT PRIMARY KEY,\n",
    "    overall DECIMAL(3,1),\n",
    "    vote DECIMAL(5,1),\n",
    "    verified VARCHAR(5),\n",
    "    reviewTime DATE,\n",
    "    unixReviewTime VARCHAR(10),\n",
    "    reviewerID VARCHAR(20),\n",
    "    asin VARCHAR(10),\n",
    "    style TINYTEXT,\n",
    "    reviewText TEXT,\n",
    "    summary TEXT\n",
    ")\n",
    "\"\"\")"
   ]
  },
  {
   "cell_type": "code",
   "execution_count": 102,
   "id": "381bc739",
   "metadata": {},
   "outputs": [],
   "source": [
    "review_df.to_sql('review', con=engine, index=False, if_exists='append')"
   ]
  },
  {
   "cell_type": "code",
   "execution_count": null,
   "id": "88dda480",
   "metadata": {},
   "outputs": [],
   "source": []
  },
  {
   "cell_type": "code",
   "execution_count": 6,
   "id": "907553bf",
   "metadata": {},
   "outputs": [
    {
     "data": {
      "text/html": [
       "<div>\n",
       "<style scoped>\n",
       "    .dataframe tbody tr th:only-of-type {\n",
       "        vertical-align: middle;\n",
       "    }\n",
       "\n",
       "    .dataframe tbody tr th {\n",
       "        vertical-align: top;\n",
       "    }\n",
       "\n",
       "    .dataframe thead th {\n",
       "        text-align: right;\n",
       "    }\n",
       "</style>\n",
       "<table border=\"1\" class=\"dataframe\">\n",
       "  <thead>\n",
       "    <tr style=\"text-align: right;\">\n",
       "      <th></th>\n",
       "      <th>reviewerName</th>\n",
       "      <th>reviewerID</th>\n",
       "      <th>registerDate</th>\n",
       "      <th>reviewCount</th>\n",
       "      <th>totalVotes</th>\n",
       "      <th>fans</th>\n",
       "      <th>phoneNumber</th>\n",
       "      <th>homeAddress</th>\n",
       "    </tr>\n",
       "  </thead>\n",
       "  <tbody>\n",
       "    <tr>\n",
       "      <th>0</th>\n",
       "      <td></td>\n",
       "      <td>A1Z73C9DGHUZS0</td>\n",
       "      <td>1308009600000</td>\n",
       "      <td>4</td>\n",
       "      <td>9.0</td>\n",
       "      <td>74</td>\n",
       "      <td>(496)763-9036x307</td>\n",
       "      <td>1958 Frye Lock, Coreyville, IA 22341</td>\n",
       "    </tr>\n",
       "    <tr>\n",
       "      <th>1</th>\n",
       "      <td></td>\n",
       "      <td>A2QKBGCN6CIOS</td>\n",
       "      <td>1456185600000</td>\n",
       "      <td>6</td>\n",
       "      <td>6.0</td>\n",
       "      <td>63</td>\n",
       "      <td>554.359.1868x47538</td>\n",
       "      <td>20139 Hernandez Mills Apt. 930, Taylorland, TX...</td>\n",
       "    </tr>\n",
       "    <tr>\n",
       "      <th>2</th>\n",
       "      <td></td>\n",
       "      <td>A1PWLRX3NKWT1E</td>\n",
       "      <td>1406246400000</td>\n",
       "      <td>7</td>\n",
       "      <td>7.0</td>\n",
       "      <td>67</td>\n",
       "      <td>904.315.1008</td>\n",
       "      <td>29288 Wright Ferry, North Patricia, DE 82981</td>\n",
       "    </tr>\n",
       "    <tr>\n",
       "      <th>3</th>\n",
       "      <td>b</td>\n",
       "      <td>A2ONWJKMEQSNVC</td>\n",
       "      <td>1501372800000</td>\n",
       "      <td>4</td>\n",
       "      <td>4.0</td>\n",
       "      <td>53</td>\n",
       "      <td>001-443-962-7146x7119</td>\n",
       "      <td>3040 Huber Hollow Apt. 388, Kingtown, MO 13400</td>\n",
       "    </tr>\n",
       "    <tr>\n",
       "      <th>4</th>\n",
       "      <td>BlasianPapi</td>\n",
       "      <td>A244LYHAD22JR4</td>\n",
       "      <td>1416528000000</td>\n",
       "      <td>13</td>\n",
       "      <td>14.0</td>\n",
       "      <td>86</td>\n",
       "      <td>473.287.1637x86083</td>\n",
       "      <td>PSC 3060, Box 1561, APO AA 64755</td>\n",
       "    </tr>\n",
       "    <tr>\n",
       "      <th>...</th>\n",
       "      <td>...</td>\n",
       "      <td>...</td>\n",
       "      <td>...</td>\n",
       "      <td>...</td>\n",
       "      <td>...</td>\n",
       "      <td>...</td>\n",
       "      <td>...</td>\n",
       "      <td>...</td>\n",
       "    </tr>\n",
       "    <tr>\n",
       "      <th>658395</th>\n",
       "      <td>~~LA</td>\n",
       "      <td>AHYQZM2NLW3Q1</td>\n",
       "      <td>1375833600000</td>\n",
       "      <td>11</td>\n",
       "      <td>37.0</td>\n",
       "      <td>114</td>\n",
       "      <td>001-633-963-8332x03925</td>\n",
       "      <td>12312 David Key, New Wesley, ID 20006</td>\n",
       "    </tr>\n",
       "    <tr>\n",
       "      <th>658396</th>\n",
       "      <td>~~Nicky~~</td>\n",
       "      <td>A2NRVM8QYUMIT2</td>\n",
       "      <td>1436486400000</td>\n",
       "      <td>7</td>\n",
       "      <td>57.0</td>\n",
       "      <td>126</td>\n",
       "      <td>(758)644-8826</td>\n",
       "      <td>18774 Leon Tunnel, South Gregory, UT 47188</td>\n",
       "    </tr>\n",
       "    <tr>\n",
       "      <th>658397</th>\n",
       "      <td>~~Trish~~</td>\n",
       "      <td>A364ZQLZSJ3RUH</td>\n",
       "      <td>1384732800000</td>\n",
       "      <td>7</td>\n",
       "      <td>7.0</td>\n",
       "      <td>67</td>\n",
       "      <td>895-354-5316</td>\n",
       "      <td>56442 Rice Parkway, Lake Kevin, TN 58916</td>\n",
       "    </tr>\n",
       "    <tr>\n",
       "      <th>658398</th>\n",
       "      <td>~~~</td>\n",
       "      <td>A19BRO8JAP3QHC</td>\n",
       "      <td>1434326400000</td>\n",
       "      <td>6</td>\n",
       "      <td>7.0</td>\n",
       "      <td>67</td>\n",
       "      <td>(590)258-7165x535</td>\n",
       "      <td>352 Brown Land, East Dana, SC 39573</td>\n",
       "    </tr>\n",
       "    <tr>\n",
       "      <th>658399</th>\n",
       "      <td>~~~ Vikky ~~~</td>\n",
       "      <td>A1TTWYTFE9BEIF</td>\n",
       "      <td>1354406400000</td>\n",
       "      <td>5</td>\n",
       "      <td>5.0</td>\n",
       "      <td>58</td>\n",
       "      <td>564-599-8341</td>\n",
       "      <td>Unit 2368 Box 3291, DPO AP 29588</td>\n",
       "    </tr>\n",
       "  </tbody>\n",
       "</table>\n",
       "<p>658400 rows × 8 columns</p>\n",
       "</div>"
      ],
      "text/plain": [
       "           reviewerName      reviewerID   registerDate  reviewCount  \\\n",
       "0                        A1Z73C9DGHUZS0  1308009600000            4   \n",
       "1                         A2QKBGCN6CIOS  1456185600000            6   \n",
       "2                        A1PWLRX3NKWT1E  1406246400000            7   \n",
       "3                     b  A2ONWJKMEQSNVC  1501372800000            4   \n",
       "4          BlasianPapi   A244LYHAD22JR4  1416528000000           13   \n",
       "...                 ...             ...            ...          ...   \n",
       "658395             ~~LA   AHYQZM2NLW3Q1  1375833600000           11   \n",
       "658396        ~~Nicky~~  A2NRVM8QYUMIT2  1436486400000            7   \n",
       "658397        ~~Trish~~  A364ZQLZSJ3RUH  1384732800000            7   \n",
       "658398              ~~~  A19BRO8JAP3QHC  1434326400000            6   \n",
       "658399    ~~~ Vikky ~~~  A1TTWYTFE9BEIF  1354406400000            5   \n",
       "\n",
       "        totalVotes  fans             phoneNumber  \\\n",
       "0              9.0    74       (496)763-9036x307   \n",
       "1              6.0    63      554.359.1868x47538   \n",
       "2              7.0    67            904.315.1008   \n",
       "3              4.0    53   001-443-962-7146x7119   \n",
       "4             14.0    86      473.287.1637x86083   \n",
       "...            ...   ...                     ...   \n",
       "658395        37.0   114  001-633-963-8332x03925   \n",
       "658396        57.0   126           (758)644-8826   \n",
       "658397         7.0    67            895-354-5316   \n",
       "658398         7.0    67       (590)258-7165x535   \n",
       "658399         5.0    58            564-599-8341   \n",
       "\n",
       "                                              homeAddress  \n",
       "0                    1958 Frye Lock, Coreyville, IA 22341  \n",
       "1       20139 Hernandez Mills Apt. 930, Taylorland, TX...  \n",
       "2            29288 Wright Ferry, North Patricia, DE 82981  \n",
       "3          3040 Huber Hollow Apt. 388, Kingtown, MO 13400  \n",
       "4                        PSC 3060, Box 1561, APO AA 64755  \n",
       "...                                                   ...  \n",
       "658395              12312 David Key, New Wesley, ID 20006  \n",
       "658396         18774 Leon Tunnel, South Gregory, UT 47188  \n",
       "658397           56442 Rice Parkway, Lake Kevin, TN 58916  \n",
       "658398                352 Brown Land, East Dana, SC 39573  \n",
       "658399                   Unit 2368 Box 3291, DPO AP 29588  \n",
       "\n",
       "[658400 rows x 8 columns]"
      ]
     },
     "execution_count": 6,
     "metadata": {},
     "output_type": "execute_result"
    }
   ],
   "source": [
    "user_df"
   ]
  },
  {
   "cell_type": "code",
   "execution_count": 8,
   "id": "b093d37c",
   "metadata": {},
   "outputs": [],
   "source": [
    "user_df = user_df.drop(columns=['reviewerName'])"
   ]
  },
  {
   "cell_type": "code",
   "execution_count": 13,
   "id": "9b7d3cd3",
   "metadata": {},
   "outputs": [
    {
     "data": {
      "text/html": [
       "<div>\n",
       "<style scoped>\n",
       "    .dataframe tbody tr th:only-of-type {\n",
       "        vertical-align: middle;\n",
       "    }\n",
       "\n",
       "    .dataframe tbody tr th {\n",
       "        vertical-align: top;\n",
       "    }\n",
       "\n",
       "    .dataframe thead th {\n",
       "        text-align: right;\n",
       "    }\n",
       "</style>\n",
       "<table border=\"1\" class=\"dataframe\">\n",
       "  <thead>\n",
       "    <tr style=\"text-align: right;\">\n",
       "      <th></th>\n",
       "      <th>reviewerID</th>\n",
       "      <th>registerDate</th>\n",
       "      <th>reviewCount</th>\n",
       "      <th>totalVotes</th>\n",
       "      <th>fans</th>\n",
       "      <th>phoneNumber</th>\n",
       "      <th>homeAddress</th>\n",
       "    </tr>\n",
       "  </thead>\n",
       "  <tbody>\n",
       "    <tr>\n",
       "      <th>0</th>\n",
       "      <td>A1Z73C9DGHUZS0</td>\n",
       "      <td>1308009600000</td>\n",
       "      <td>4</td>\n",
       "      <td>9.0</td>\n",
       "      <td>74</td>\n",
       "      <td>(496)763-9036x307</td>\n",
       "      <td>1958 Frye Lock, Coreyville, IA 22341</td>\n",
       "    </tr>\n",
       "    <tr>\n",
       "      <th>1</th>\n",
       "      <td>A2QKBGCN6CIOS</td>\n",
       "      <td>1456185600000</td>\n",
       "      <td>6</td>\n",
       "      <td>6.0</td>\n",
       "      <td>63</td>\n",
       "      <td>554.359.1868x47538</td>\n",
       "      <td>20139 Hernandez Mills Apt. 930, Taylorland, TX...</td>\n",
       "    </tr>\n",
       "    <tr>\n",
       "      <th>2</th>\n",
       "      <td>A1PWLRX3NKWT1E</td>\n",
       "      <td>1406246400000</td>\n",
       "      <td>7</td>\n",
       "      <td>7.0</td>\n",
       "      <td>67</td>\n",
       "      <td>904.315.1008</td>\n",
       "      <td>29288 Wright Ferry, North Patricia, DE 82981</td>\n",
       "    </tr>\n",
       "    <tr>\n",
       "      <th>3</th>\n",
       "      <td>A2ONWJKMEQSNVC</td>\n",
       "      <td>1501372800000</td>\n",
       "      <td>4</td>\n",
       "      <td>4.0</td>\n",
       "      <td>53</td>\n",
       "      <td>001-443-962-7146x7119</td>\n",
       "      <td>3040 Huber Hollow Apt. 388, Kingtown, MO 13400</td>\n",
       "    </tr>\n",
       "    <tr>\n",
       "      <th>4</th>\n",
       "      <td>A244LYHAD22JR4</td>\n",
       "      <td>1416528000000</td>\n",
       "      <td>13</td>\n",
       "      <td>14.0</td>\n",
       "      <td>86</td>\n",
       "      <td>473.287.1637x86083</td>\n",
       "      <td>PSC 3060, Box 1561, APO AA 64755</td>\n",
       "    </tr>\n",
       "    <tr>\n",
       "      <th>...</th>\n",
       "      <td>...</td>\n",
       "      <td>...</td>\n",
       "      <td>...</td>\n",
       "      <td>...</td>\n",
       "      <td>...</td>\n",
       "      <td>...</td>\n",
       "      <td>...</td>\n",
       "    </tr>\n",
       "    <tr>\n",
       "      <th>658395</th>\n",
       "      <td>AHYQZM2NLW3Q1</td>\n",
       "      <td>1375833600000</td>\n",
       "      <td>11</td>\n",
       "      <td>37.0</td>\n",
       "      <td>114</td>\n",
       "      <td>001-633-963-8332x03925</td>\n",
       "      <td>12312 David Key, New Wesley, ID 20006</td>\n",
       "    </tr>\n",
       "    <tr>\n",
       "      <th>658396</th>\n",
       "      <td>A2NRVM8QYUMIT2</td>\n",
       "      <td>1436486400000</td>\n",
       "      <td>7</td>\n",
       "      <td>57.0</td>\n",
       "      <td>126</td>\n",
       "      <td>(758)644-8826</td>\n",
       "      <td>18774 Leon Tunnel, South Gregory, UT 47188</td>\n",
       "    </tr>\n",
       "    <tr>\n",
       "      <th>658397</th>\n",
       "      <td>A364ZQLZSJ3RUH</td>\n",
       "      <td>1384732800000</td>\n",
       "      <td>7</td>\n",
       "      <td>7.0</td>\n",
       "      <td>67</td>\n",
       "      <td>895-354-5316</td>\n",
       "      <td>56442 Rice Parkway, Lake Kevin, TN 58916</td>\n",
       "    </tr>\n",
       "    <tr>\n",
       "      <th>658398</th>\n",
       "      <td>A19BRO8JAP3QHC</td>\n",
       "      <td>1434326400000</td>\n",
       "      <td>6</td>\n",
       "      <td>7.0</td>\n",
       "      <td>67</td>\n",
       "      <td>(590)258-7165x535</td>\n",
       "      <td>352 Brown Land, East Dana, SC 39573</td>\n",
       "    </tr>\n",
       "    <tr>\n",
       "      <th>658399</th>\n",
       "      <td>A1TTWYTFE9BEIF</td>\n",
       "      <td>1354406400000</td>\n",
       "      <td>5</td>\n",
       "      <td>5.0</td>\n",
       "      <td>58</td>\n",
       "      <td>564-599-8341</td>\n",
       "      <td>Unit 2368 Box 3291, DPO AP 29588</td>\n",
       "    </tr>\n",
       "  </tbody>\n",
       "</table>\n",
       "<p>658400 rows × 7 columns</p>\n",
       "</div>"
      ],
      "text/plain": [
       "            reviewerID   registerDate  reviewCount  totalVotes  fans  \\\n",
       "0       A1Z73C9DGHUZS0  1308009600000            4         9.0    74   \n",
       "1        A2QKBGCN6CIOS  1456185600000            6         6.0    63   \n",
       "2       A1PWLRX3NKWT1E  1406246400000            7         7.0    67   \n",
       "3       A2ONWJKMEQSNVC  1501372800000            4         4.0    53   \n",
       "4       A244LYHAD22JR4  1416528000000           13        14.0    86   \n",
       "...                ...            ...          ...         ...   ...   \n",
       "658395   AHYQZM2NLW3Q1  1375833600000           11        37.0   114   \n",
       "658396  A2NRVM8QYUMIT2  1436486400000            7        57.0   126   \n",
       "658397  A364ZQLZSJ3RUH  1384732800000            7         7.0    67   \n",
       "658398  A19BRO8JAP3QHC  1434326400000            6         7.0    67   \n",
       "658399  A1TTWYTFE9BEIF  1354406400000            5         5.0    58   \n",
       "\n",
       "                   phoneNumber  \\\n",
       "0            (496)763-9036x307   \n",
       "1           554.359.1868x47538   \n",
       "2                 904.315.1008   \n",
       "3        001-443-962-7146x7119   \n",
       "4           473.287.1637x86083   \n",
       "...                        ...   \n",
       "658395  001-633-963-8332x03925   \n",
       "658396           (758)644-8826   \n",
       "658397            895-354-5316   \n",
       "658398       (590)258-7165x535   \n",
       "658399            564-599-8341   \n",
       "\n",
       "                                              homeAddress  \n",
       "0                    1958 Frye Lock, Coreyville, IA 22341  \n",
       "1       20139 Hernandez Mills Apt. 930, Taylorland, TX...  \n",
       "2            29288 Wright Ferry, North Patricia, DE 82981  \n",
       "3          3040 Huber Hollow Apt. 388, Kingtown, MO 13400  \n",
       "4                        PSC 3060, Box 1561, APO AA 64755  \n",
       "...                                                   ...  \n",
       "658395              12312 David Key, New Wesley, ID 20006  \n",
       "658396         18774 Leon Tunnel, South Gregory, UT 47188  \n",
       "658397           56442 Rice Parkway, Lake Kevin, TN 58916  \n",
       "658398                352 Brown Land, East Dana, SC 39573  \n",
       "658399                   Unit 2368 Box 3291, DPO AP 29588  \n",
       "\n",
       "[658400 rows x 7 columns]"
      ]
     },
     "execution_count": 13,
     "metadata": {},
     "output_type": "execute_result"
    }
   ],
   "source": [
    "user_df"
   ]
  },
  {
   "cell_type": "code",
   "execution_count": 14,
   "id": "b5cb2e7c",
   "metadata": {},
   "outputs": [
    {
     "name": "stdout",
     "output_type": "stream",
     "text": [
      "There are 17315 repeated values in the 'reviewerID' column.\n"
     ]
    }
   ],
   "source": [
    "unique_reviewerIDs = user_df['reviewerID'].nunique()\n",
    "total_rows = len(user_df)\n",
    "\n",
    "if unique_reviewerIDs == total_rows:\n",
    "    print(\"There are no repeated values in the 'reviewerID' column.\")\n",
    "else:\n",
    "    print(f\"There are {total_rows - unique_reviewerIDs} repeated values in the 'reviewerID' column.\")"
   ]
  },
  {
   "cell_type": "code",
   "execution_count": 20,
   "id": "b138c04d",
   "metadata": {},
   "outputs": [],
   "source": [
    "# remove the repeated rows based on the \"reviewerID\" column\n",
    "user_df = user_df.drop_duplicates(subset='reviewerID', keep='first')"
   ]
  },
  {
   "cell_type": "code",
   "execution_count": 22,
   "id": "a3fc4f25",
   "metadata": {},
   "outputs": [
    {
     "data": {
      "text/html": [
       "<div>\n",
       "<style scoped>\n",
       "    .dataframe tbody tr th:only-of-type {\n",
       "        vertical-align: middle;\n",
       "    }\n",
       "\n",
       "    .dataframe tbody tr th {\n",
       "        vertical-align: top;\n",
       "    }\n",
       "\n",
       "    .dataframe thead th {\n",
       "        text-align: right;\n",
       "    }\n",
       "</style>\n",
       "<table border=\"1\" class=\"dataframe\">\n",
       "  <thead>\n",
       "    <tr style=\"text-align: right;\">\n",
       "      <th></th>\n",
       "      <th>reviewerID</th>\n",
       "      <th>registerDate</th>\n",
       "      <th>reviewCount</th>\n",
       "      <th>totalVotes</th>\n",
       "      <th>fans</th>\n",
       "      <th>phoneNumber</th>\n",
       "      <th>homeAddress</th>\n",
       "    </tr>\n",
       "  </thead>\n",
       "  <tbody>\n",
       "    <tr>\n",
       "      <th>0</th>\n",
       "      <td>A1Z73C9DGHUZS0</td>\n",
       "      <td>1308009600000</td>\n",
       "      <td>4</td>\n",
       "      <td>9.0</td>\n",
       "      <td>74</td>\n",
       "      <td>(496)763-9036x307</td>\n",
       "      <td>1958 Frye Lock, Coreyville, IA 22341</td>\n",
       "    </tr>\n",
       "    <tr>\n",
       "      <th>1</th>\n",
       "      <td>A2QKBGCN6CIOS</td>\n",
       "      <td>1456185600000</td>\n",
       "      <td>6</td>\n",
       "      <td>6.0</td>\n",
       "      <td>63</td>\n",
       "      <td>554.359.1868x47538</td>\n",
       "      <td>20139 Hernandez Mills Apt. 930, Taylorland, TX...</td>\n",
       "    </tr>\n",
       "    <tr>\n",
       "      <th>2</th>\n",
       "      <td>A1PWLRX3NKWT1E</td>\n",
       "      <td>1406246400000</td>\n",
       "      <td>7</td>\n",
       "      <td>7.0</td>\n",
       "      <td>67</td>\n",
       "      <td>904.315.1008</td>\n",
       "      <td>29288 Wright Ferry, North Patricia, DE 82981</td>\n",
       "    </tr>\n",
       "    <tr>\n",
       "      <th>3</th>\n",
       "      <td>A2ONWJKMEQSNVC</td>\n",
       "      <td>1501372800000</td>\n",
       "      <td>4</td>\n",
       "      <td>4.0</td>\n",
       "      <td>53</td>\n",
       "      <td>001-443-962-7146x7119</td>\n",
       "      <td>3040 Huber Hollow Apt. 388, Kingtown, MO 13400</td>\n",
       "    </tr>\n",
       "    <tr>\n",
       "      <th>4</th>\n",
       "      <td>A244LYHAD22JR4</td>\n",
       "      <td>1416528000000</td>\n",
       "      <td>13</td>\n",
       "      <td>14.0</td>\n",
       "      <td>86</td>\n",
       "      <td>473.287.1637x86083</td>\n",
       "      <td>PSC 3060, Box 1561, APO AA 64755</td>\n",
       "    </tr>\n",
       "    <tr>\n",
       "      <th>...</th>\n",
       "      <td>...</td>\n",
       "      <td>...</td>\n",
       "      <td>...</td>\n",
       "      <td>...</td>\n",
       "      <td>...</td>\n",
       "      <td>...</td>\n",
       "      <td>...</td>\n",
       "    </tr>\n",
       "    <tr>\n",
       "      <th>658394</th>\n",
       "      <td>A3DVHS7LCPBWV4</td>\n",
       "      <td>1328832000000</td>\n",
       "      <td>13</td>\n",
       "      <td>16.0</td>\n",
       "      <td>89</td>\n",
       "      <td>672.566.4014</td>\n",
       "      <td>3632 Omar Course, Kathrynshire, IA 24394</td>\n",
       "    </tr>\n",
       "    <tr>\n",
       "      <th>658396</th>\n",
       "      <td>A2NRVM8QYUMIT2</td>\n",
       "      <td>1436486400000</td>\n",
       "      <td>7</td>\n",
       "      <td>57.0</td>\n",
       "      <td>126</td>\n",
       "      <td>(758)644-8826</td>\n",
       "      <td>18774 Leon Tunnel, South Gregory, UT 47188</td>\n",
       "    </tr>\n",
       "    <tr>\n",
       "      <th>658397</th>\n",
       "      <td>A364ZQLZSJ3RUH</td>\n",
       "      <td>1384732800000</td>\n",
       "      <td>7</td>\n",
       "      <td>7.0</td>\n",
       "      <td>67</td>\n",
       "      <td>895-354-5316</td>\n",
       "      <td>56442 Rice Parkway, Lake Kevin, TN 58916</td>\n",
       "    </tr>\n",
       "    <tr>\n",
       "      <th>658398</th>\n",
       "      <td>A19BRO8JAP3QHC</td>\n",
       "      <td>1434326400000</td>\n",
       "      <td>6</td>\n",
       "      <td>7.0</td>\n",
       "      <td>67</td>\n",
       "      <td>(590)258-7165x535</td>\n",
       "      <td>352 Brown Land, East Dana, SC 39573</td>\n",
       "    </tr>\n",
       "    <tr>\n",
       "      <th>658399</th>\n",
       "      <td>A1TTWYTFE9BEIF</td>\n",
       "      <td>1354406400000</td>\n",
       "      <td>5</td>\n",
       "      <td>5.0</td>\n",
       "      <td>58</td>\n",
       "      <td>564-599-8341</td>\n",
       "      <td>Unit 2368 Box 3291, DPO AP 29588</td>\n",
       "    </tr>\n",
       "  </tbody>\n",
       "</table>\n",
       "<p>641085 rows × 7 columns</p>\n",
       "</div>"
      ],
      "text/plain": [
       "            reviewerID   registerDate  reviewCount  totalVotes  fans  \\\n",
       "0       A1Z73C9DGHUZS0  1308009600000            4         9.0    74   \n",
       "1        A2QKBGCN6CIOS  1456185600000            6         6.0    63   \n",
       "2       A1PWLRX3NKWT1E  1406246400000            7         7.0    67   \n",
       "3       A2ONWJKMEQSNVC  1501372800000            4         4.0    53   \n",
       "4       A244LYHAD22JR4  1416528000000           13        14.0    86   \n",
       "...                ...            ...          ...         ...   ...   \n",
       "658394  A3DVHS7LCPBWV4  1328832000000           13        16.0    89   \n",
       "658396  A2NRVM8QYUMIT2  1436486400000            7        57.0   126   \n",
       "658397  A364ZQLZSJ3RUH  1384732800000            7         7.0    67   \n",
       "658398  A19BRO8JAP3QHC  1434326400000            6         7.0    67   \n",
       "658399  A1TTWYTFE9BEIF  1354406400000            5         5.0    58   \n",
       "\n",
       "                  phoneNumber  \\\n",
       "0           (496)763-9036x307   \n",
       "1          554.359.1868x47538   \n",
       "2                904.315.1008   \n",
       "3       001-443-962-7146x7119   \n",
       "4          473.287.1637x86083   \n",
       "...                       ...   \n",
       "658394           672.566.4014   \n",
       "658396          (758)644-8826   \n",
       "658397           895-354-5316   \n",
       "658398      (590)258-7165x535   \n",
       "658399           564-599-8341   \n",
       "\n",
       "                                              homeAddress  \n",
       "0                    1958 Frye Lock, Coreyville, IA 22341  \n",
       "1       20139 Hernandez Mills Apt. 930, Taylorland, TX...  \n",
       "2            29288 Wright Ferry, North Patricia, DE 82981  \n",
       "3          3040 Huber Hollow Apt. 388, Kingtown, MO 13400  \n",
       "4                        PSC 3060, Box 1561, APO AA 64755  \n",
       "...                                                   ...  \n",
       "658394           3632 Omar Course, Kathrynshire, IA 24394  \n",
       "658396         18774 Leon Tunnel, South Gregory, UT 47188  \n",
       "658397           56442 Rice Parkway, Lake Kevin, TN 58916  \n",
       "658398                352 Brown Land, East Dana, SC 39573  \n",
       "658399                   Unit 2368 Box 3291, DPO AP 29588  \n",
       "\n",
       "[641085 rows x 7 columns]"
      ]
     },
     "execution_count": 22,
     "metadata": {},
     "output_type": "execute_result"
    }
   ],
   "source": [
    "user_df"
   ]
  },
  {
   "cell_type": "code",
   "execution_count": 23,
   "id": "e0435636",
   "metadata": {},
   "outputs": [
    {
     "name": "stdout",
     "output_type": "stream",
     "text": [
      "Maximum length for column 'reviewerID' is: 20\n",
      "Maximum length for column 'registerDate' is: 13\n",
      "Maximum length for column 'reviewCount' is: 4\n",
      "Maximum length for column 'totalVotes' is: 7\n",
      "Maximum length for column 'fans' is: 3\n",
      "Maximum length for column 'phoneNumber' is: 22\n",
      "Maximum length for column 'homeAddress' is: 71\n"
     ]
    }
   ],
   "source": [
    "for column in user_df.columns:\n",
    "    max_length = user_df[column].astype(str).str.len().max()\n",
    "    print(f\"Maximum length for column '{column}' is: {max_length}\")"
   ]
  },
  {
   "cell_type": "code",
   "execution_count": 31,
   "id": "879512b9",
   "metadata": {},
   "outputs": [
    {
     "data": {
      "text/plain": [
       "0"
      ]
     },
     "execution_count": 31,
     "metadata": {},
     "output_type": "execute_result"
    }
   ],
   "source": [
    "cursor.execute(\"\"\"\n",
    "CREATE TABLE user (\n",
    "    reviewerID VARCHAR(20) PRIMARY KEY,\n",
    "    registerDate VARCHAR(13),\n",
    "    reviewCount VARCHAR(4),\n",
    "    totalVotes DECIMAL(7,1),\n",
    "    fans VARCHAR(3),\n",
    "    phoneNumber VARCHAR(22),\n",
    "    homeAddress VARCHAR(255)\n",
    ")\n",
    "\"\"\")"
   ]
  },
  {
   "cell_type": "code",
   "execution_count": 32,
   "id": "56d96c29",
   "metadata": {},
   "outputs": [],
   "source": [
    "user_df.to_sql('user', con=engine, index=False, if_exists='append')"
   ]
  },
  {
   "cell_type": "code",
   "execution_count": null,
   "id": "b4716174",
   "metadata": {},
   "outputs": [],
   "source": []
  },
  {
   "cell_type": "code",
   "execution_count": 33,
   "id": "dead91cb",
   "metadata": {},
   "outputs": [
    {
     "data": {
      "text/html": [
       "<div>\n",
       "<style scoped>\n",
       "    .dataframe tbody tr th:only-of-type {\n",
       "        vertical-align: middle;\n",
       "    }\n",
       "\n",
       "    .dataframe tbody tr th {\n",
       "        vertical-align: top;\n",
       "    }\n",
       "\n",
       "    .dataframe thead th {\n",
       "        text-align: right;\n",
       "    }\n",
       "</style>\n",
       "<table border=\"1\" class=\"dataframe\">\n",
       "  <thead>\n",
       "    <tr style=\"text-align: right;\">\n",
       "      <th></th>\n",
       "      <th>transactionID</th>\n",
       "      <th>transactionTime</th>\n",
       "      <th>reviewerID</th>\n",
       "      <th>copy</th>\n",
       "      <th>totalPrice</th>\n",
       "      <th>paymentMethod</th>\n",
       "    </tr>\n",
       "  </thead>\n",
       "  <tbody>\n",
       "    <tr>\n",
       "      <th>0</th>\n",
       "      <td>65394be6e6e35c3b983f5029</td>\n",
       "      <td>1444913770000</td>\n",
       "      <td>A1HP7NVNPFMA4N</td>\n",
       "      <td>6</td>\n",
       "      <td>47.70</td>\n",
       "      <td>Amex</td>\n",
       "    </tr>\n",
       "    <tr>\n",
       "      <th>1</th>\n",
       "      <td>65394be6e6e35c3b983f502a</td>\n",
       "      <td>1437507288000</td>\n",
       "      <td>A1JGAP0185YJI6</td>\n",
       "      <td>4</td>\n",
       "      <td>31.80</td>\n",
       "      <td>Visa</td>\n",
       "    </tr>\n",
       "    <tr>\n",
       "      <th>2</th>\n",
       "      <td>65394be6e6e35c3b983f502b</td>\n",
       "      <td>1424199675000</td>\n",
       "      <td>A1YJWEXHQBWK2B</td>\n",
       "      <td>8</td>\n",
       "      <td>63.60</td>\n",
       "      <td>PayPal</td>\n",
       "    </tr>\n",
       "    <tr>\n",
       "      <th>3</th>\n",
       "      <td>65394be6e6e35c3b983f502c</td>\n",
       "      <td>1424359921000</td>\n",
       "      <td>A2204E1TH211HT</td>\n",
       "      <td>6</td>\n",
       "      <td>47.70</td>\n",
       "      <td>Amex</td>\n",
       "    </tr>\n",
       "    <tr>\n",
       "      <th>4</th>\n",
       "      <td>65394be6e6e35c3b983f502d</td>\n",
       "      <td>1418957169000</td>\n",
       "      <td>A2RF5B5H74JLPE</td>\n",
       "      <td>9</td>\n",
       "      <td>71.55</td>\n",
       "      <td>MasterCard</td>\n",
       "    </tr>\n",
       "    <tr>\n",
       "      <th>...</th>\n",
       "      <td>...</td>\n",
       "      <td>...</td>\n",
       "      <td>...</td>\n",
       "      <td>...</td>\n",
       "      <td>...</td>\n",
       "      <td>...</td>\n",
       "    </tr>\n",
       "    <tr>\n",
       "      <th>6453125</th>\n",
       "      <td>65394bf4e6e35c3b98a1c7ae</td>\n",
       "      <td>1483026918000</td>\n",
       "      <td>A2MFARH7H7FSY1</td>\n",
       "      <td>1</td>\n",
       "      <td>14.98</td>\n",
       "      <td>MasterCard</td>\n",
       "    </tr>\n",
       "    <tr>\n",
       "      <th>6453126</th>\n",
       "      <td>65394bf4e6e35c3b98a1c7af</td>\n",
       "      <td>1480522392000</td>\n",
       "      <td>AY532XZ00UTKN</td>\n",
       "      <td>9</td>\n",
       "      <td>134.82</td>\n",
       "      <td>Discover</td>\n",
       "    </tr>\n",
       "    <tr>\n",
       "      <th>6453127</th>\n",
       "      <td>65394bf4e6e35c3b98a1c7b0</td>\n",
       "      <td>1480689296000</td>\n",
       "      <td>A2VWQXWF1GO2ZE</td>\n",
       "      <td>10</td>\n",
       "      <td>149.80</td>\n",
       "      <td>PayPal</td>\n",
       "    </tr>\n",
       "    <tr>\n",
       "      <th>6453128</th>\n",
       "      <td>65394bf4e6e35c3b98a1c7b1</td>\n",
       "      <td>1478364080000</td>\n",
       "      <td>A22AB77OD50U4M</td>\n",
       "      <td>3</td>\n",
       "      <td>44.94</td>\n",
       "      <td>Bitcoin</td>\n",
       "    </tr>\n",
       "    <tr>\n",
       "      <th>6453129</th>\n",
       "      <td>65394bf4e6e35c3b98a1c7b2</td>\n",
       "      <td>1471197449000</td>\n",
       "      <td>ATGEMV4Z0GPOH</td>\n",
       "      <td>5</td>\n",
       "      <td>74.90</td>\n",
       "      <td>Discover</td>\n",
       "    </tr>\n",
       "  </tbody>\n",
       "</table>\n",
       "<p>6453130 rows × 6 columns</p>\n",
       "</div>"
      ],
      "text/plain": [
       "                    transactionID  transactionTime      reviewerID  copy  \\\n",
       "0        65394be6e6e35c3b983f5029    1444913770000  A1HP7NVNPFMA4N     6   \n",
       "1        65394be6e6e35c3b983f502a    1437507288000  A1JGAP0185YJI6     4   \n",
       "2        65394be6e6e35c3b983f502b    1424199675000  A1YJWEXHQBWK2B     8   \n",
       "3        65394be6e6e35c3b983f502c    1424359921000  A2204E1TH211HT     6   \n",
       "4        65394be6e6e35c3b983f502d    1418957169000  A2RF5B5H74JLPE     9   \n",
       "...                           ...              ...             ...   ...   \n",
       "6453125  65394bf4e6e35c3b98a1c7ae    1483026918000  A2MFARH7H7FSY1     1   \n",
       "6453126  65394bf4e6e35c3b98a1c7af    1480522392000   AY532XZ00UTKN     9   \n",
       "6453127  65394bf4e6e35c3b98a1c7b0    1480689296000  A2VWQXWF1GO2ZE    10   \n",
       "6453128  65394bf4e6e35c3b98a1c7b1    1478364080000  A22AB77OD50U4M     3   \n",
       "6453129  65394bf4e6e35c3b98a1c7b2    1471197449000   ATGEMV4Z0GPOH     5   \n",
       "\n",
       "         totalPrice paymentMethod  \n",
       "0             47.70          Amex  \n",
       "1             31.80          Visa  \n",
       "2             63.60        PayPal  \n",
       "3             47.70          Amex  \n",
       "4             71.55    MasterCard  \n",
       "...             ...           ...  \n",
       "6453125       14.98    MasterCard  \n",
       "6453126      134.82      Discover  \n",
       "6453127      149.80        PayPal  \n",
       "6453128       44.94       Bitcoin  \n",
       "6453129       74.90      Discover  \n",
       "\n",
       "[6453130 rows x 6 columns]"
      ]
     },
     "execution_count": 33,
     "metadata": {},
     "output_type": "execute_result"
    }
   ],
   "source": [
    "transaction_df"
   ]
  },
  {
   "cell_type": "code",
   "execution_count": 34,
   "id": "3e0974fb",
   "metadata": {},
   "outputs": [
    {
     "name": "stdout",
     "output_type": "stream",
     "text": [
      "<class 'pandas.core.frame.DataFrame'>\n",
      "RangeIndex: 6453130 entries, 0 to 6453129\n",
      "Data columns (total 6 columns):\n",
      " #   Column           Dtype  \n",
      "---  ------           -----  \n",
      " 0   transactionID    object \n",
      " 1   transactionTime  int64  \n",
      " 2   reviewerID       object \n",
      " 3   copy             int64  \n",
      " 4   totalPrice       float64\n",
      " 5   paymentMethod    object \n",
      "dtypes: float64(1), int64(2), object(3)\n",
      "memory usage: 295.4+ MB\n"
     ]
    }
   ],
   "source": [
    "transaction_df.info()"
   ]
  },
  {
   "cell_type": "code",
   "execution_count": 35,
   "id": "7f389476",
   "metadata": {},
   "outputs": [
    {
     "name": "stdout",
     "output_type": "stream",
     "text": [
      "Maximum length for column 'transactionID' is: 24\n",
      "Maximum length for column 'transactionTime' is: 13\n",
      "Maximum length for column 'reviewerID' is: 20\n",
      "Maximum length for column 'copy' is: 2\n",
      "Maximum length for column 'totalPrice' is: 7\n",
      "Maximum length for column 'paymentMethod' is: 10\n"
     ]
    }
   ],
   "source": [
    "for column in transaction_df.columns:\n",
    "    max_length = transaction_df[column].astype(str).str.len().max()\n",
    "    print(f\"Maximum length for column '{column}' is: {max_length}\")"
   ]
  },
  {
   "cell_type": "code",
   "execution_count": null,
   "id": "45aab1de",
   "metadata": {},
   "outputs": [],
   "source": []
  },
  {
   "cell_type": "code",
   "execution_count": 36,
   "id": "101ec862",
   "metadata": {},
   "outputs": [
    {
     "data": {
      "text/plain": [
       "0"
      ]
     },
     "execution_count": 36,
     "metadata": {},
     "output_type": "execute_result"
    }
   ],
   "source": [
    "cursor.execute(\"\"\"\n",
    "CREATE TABLE transaction (\n",
    "    transactionID VARCHAR(24) PRIMARY KEY,\n",
    "    transactionTime VARCHAR(13),\n",
    "    reviewerID VARCHAR(20),\n",
    "    copy VARCHAR(2),\n",
    "    totalPrice DECIMAL(7,2),\n",
    "    paymentMethod VARCHAR(10)\n",
    ")\n",
    "\"\"\")"
   ]
  },
  {
   "cell_type": "code",
   "execution_count": 37,
   "id": "fdab4d89",
   "metadata": {},
   "outputs": [],
   "source": [
    "transaction_df.to_sql('transaction', con=engine, index=False, if_exists='append')"
   ]
  },
  {
   "cell_type": "code",
   "execution_count": 100,
   "id": "72010e7e",
   "metadata": {},
   "outputs": [
    {
     "data": {
      "text/plain": [
       "0"
      ]
     },
     "execution_count": 100,
     "metadata": {},
     "output_type": "execute_result"
    }
   ],
   "source": [
    "# cursor.execute(\"DROP TABLE review\")"
   ]
  },
  {
   "cell_type": "code",
   "execution_count": 38,
   "id": "9522b26c",
   "metadata": {},
   "outputs": [],
   "source": [
    "cnx.close()"
   ]
  }
 ],
 "metadata": {
  "kernelspec": {
   "display_name": "Python 3",
   "language": "python",
   "name": "python3"
  },
  "language_info": {
   "codemirror_mode": {
    "name": "ipython",
    "version": 3
   },
   "file_extension": ".py",
   "mimetype": "text/x-python",
   "name": "python",
   "nbconvert_exporter": "python",
   "pygments_lexer": "ipython3",
   "version": "3.8.8"
  }
 },
 "nbformat": 4,
 "nbformat_minor": 5
}
